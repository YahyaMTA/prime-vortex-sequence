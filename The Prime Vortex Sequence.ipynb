{
 "cells": [
  {
   "cell_type": "code",
   "execution_count": 1,
   "id": "7589fd",
   "metadata": {
    "collapsed": false
   },
   "outputs": [
    {
     "name": "stdout",
     "output_type": "stream",
     "text": [
      "7: [7, 25, 5, 17, 53, 165, 55, 11, 35, 7, 25, 5, 17, 53, 165, 55, 11, 35, 7, 25, 5, 17, 53, 165, 55, 11, 35, 7, 25, 5, 17, 53, 165, 55, 11, 35, 7, 25, 5, 17, 53, 165, 55, 11, 35, 7, 25, 5, 17, 53, 165, 55, 11, 35, 7, 25, 5, 17, 53, 165, 55, 11, 35, 7, 25, 5, 17, 53, 165, 55, 11, 35, 7, 25, 5, 17, 53, 165, 55, 11, 35, 7, 25, 5, 17, 53, 165, 55, 11, 35, 7, 25, 5, 17, 53, 165, 55, 11, 35, 7, 25, 5, 17, 53, 165, 55, 11, 35, 7, 25, 5, 17, 53, 165, 55, 11, 35, 7, 25, 5, 17, 53, 165, 55, 11, 35, 7, 25, 5, 17, 53, 165, 55, 11, 35, 7, 25, 5, 17, 53, 165, 55, 11, 35, 7, 25, 5, 17, 53, 165, 55, 11, 35, 7, 25, 5, 17, 53, 165, 55, 11, 35, 7, 25, 5, 17, 53, 165, 55, 11, 35, 7, 25, 5, 17, 53, 165, 55, 11, 35, 7, 25, 5, 17, 53, 165, 55, 11, 35, 7, 25, 5, 17, 53, 165, 55, 11, 35, 7, 25, 5, 17, 53, 165, 55, 11, 35, 7, 25, 5, 17, 53, 165, 55, 11, 35, 7, 25, 5, 17, 53, 165, 55, 11, 35, 7, 25, 5, 17, 53, 165, 55, 11, 35, 7, 25, 5, 17, 53, 165, 55, 11, 35, 7, 25, 5, 17, 53, 165, 55, 11, 35, 7, 25, 5, 17, 53, 165, 55, 11, 35, 7, 25, 5, 17, 53, 165, 55, 11, 35, 7, 25, 5, 17, 53, 165, 55, 11, 35, 7, 25, 5, 17, 53, 165, 55, 11, 35, 7, 25, 5, 17, 53, 165, 55, 11, 35, 7, 25, 5, 17, 53, 165, 55, 11, 35, 7, 25, 5, 17, 53, 165, 55, 11, 35, 7, 25, 5, 17, 53, 165, 55, 11, 35, 7, 25, 5, 17, 53, 165, 55, 11, 35, 7, 25, 5, 17, 53, 165, 55, 11, 35, 7, 25, 5, 17, 53, 165, 55, 11, 35, 7, 25, 5, 17, 53, 165, 55, 11, 35, 7, 25, 5, 17, 53, 165, 55, 11, 35, 7, 25, 5, 17, 53, 165, 55, 11, 35, 7, 25, 5, 17, 53, 165, 55, 11, 35, 7, 25, 5, 17, 53, 165, 55, 11, 35, 7, 25, 5, 17, 53, 165, 55, 11, 35, 7, 25, 5, 17, 53, 165, 55, 11, 35, 7, 25, 5, 17, 53, 165, 55, 11, 35, 7, 25, 5, 17, 53, 165, 55, 11, 35, 7, 25, 5, 17, 53, 165, 55, 11, 35, 7, 25, 5, 17, 53, 165, 55, 11, 35, 7, 25, 5, 17, 53, 165, 55, 11, 35, 7, 25, 5, 17, 53, 165, 55, 11, 35, 7, 25, 5, 17, 53, 165, 55, 11, 35, 7, 25, 5, 17, 53, 165, 55, 11, 35, 7, 25, 5, 17, 53, 165, 55, 11, 35, 7, 25, 5, 17, 53, 165, 55, 11, 35, 7, 25, 5, 17, 53, 165, 55, 11, 35, 7, 25, 5, 17, 53, 165, 55, 11, 35, 7, 25, 5, 17, 53, 165, 55, 11, 35, 7, 25, 5, 17, 53, 165, 55, 11, 35, 7, 25, 5, 17, 53, 165, 55, 11, 35, 7, 25, 5, 17, 53, 165, 55, 11, 35, 7, 25, 5, 17, 53, 165, 55, 11, 35, 7, 25, 5, 17, 53, 165, 55, 11, 35, 7, 25, 5, 17, 53, 165, 55, 11, 35, 7, 25, 5, 17, 53, 165, 55, 11, 35, 7, 25, 5, 17, 53, 165, 55, 11, 35, 7, 25, 5, 17, 53, 165, 55, 11, 35, 7, 25, 5, 17, 53, 165, 55, 11, 35, 7, 25, 5, 17, 53, 165, 55, 11, 35, 7, 25, 5, 17, 53, 165, 55, 11, 35, 7, 25, 5, 17, 53, 165, 55, 11, 35, 7, 25, 5, 17, 53, 165, 55, 11, 35, 7, 25, 5, 17, 53, 165, 55, 11, 35, 7, 25, 5, 17, 53, 165, 55, 11, 35, 7, 25, 5, 17, 53, 165, 55, 11, 35, 7, 25, 5, 17, 53, 165, 55, 11, 35, 7, 25, 5, 17, 53, 165, 55, 11, 35, 7, 25, 5, 17, 53, 165, 55, 11, 35, 7, 25, 5, 17, 53, 165, 55, 11, 35, 7, 25, 5, 17, 53, 165, 55, 11, 35, 7, 25, 5, 17, 53, 165, 55, 11, 35, 7, 25, 5, 17, 53, 165, 55, 11, 35, 7, 25, 5, 17, 53, 165, 55, 11, 35, 7, 25, 5, 17, 53, 165, 55, 11, 35, 7, 25, 5, 17, 53, 165, 55, 11, 35, 7, 25, 5, 17, 53, 165, 55, 11, 35, 7, 25, 5, 17, 53, 165, 55, 11, 35, 7, 25, 5, 17, 53, 165, 55, 11, 35, 7, 25, 5, 17, 53, 165, 55, 11, 35, 7, 25, 5, 17, 53, 165, 55, 11, 35, 7, 25, 5, 17, 53, 165, 55, 11, 35, 7, 25, 5, 17, 53, 165, 55, 11, 35, 7, 25, 5, 17, 53, 165, 55, 11, 35, 7, 25, 5, 17, 53, 165, 55, 11, 35, 7, 25, 5, 17, 53, 165, 55, 11, 35, 7, 25, 5, 17, 53, 165, 55, 11, 35, 7, 25, 5, 17, 53, 165, 55, 11, 35, 7, 25, 5, 17, 53, 165, 55, 11, 35, 7, 25, 5, 17, 53, 165, 55, 11, 35, 7, 25, 5, 17, 53, 165, 55, 11, 35, 7, 25, 5, 17, 53, 165, 55, 11, 35, 7, 25, 5, 17, 53, 165, 55, 11, 35, 7, 25, 5, 17, 53, 165, 55, 11, 35, 7, 25, 5, 17, 53, 165, 55, 11, 35, 7, 25, 5, 17, 53, 165, 55, 11, 35, 7, 25, 5, 17, 53, 165, 55, 11, 35, 7, 25, 5, 17, 53, 165, 55, 11, 35, 7, 25, 5, 17, 53, 165, 55, 11, 35, 7, 25, 5, 17, 53, 165, 55, 11, 35, 7, 25, 5, 17, 53, 165, 55, 11, 35, 7]\n",
      "15: [15, 5, 17, 53, 165, 55, 11, 35, 7, 25, 5, 17, 53, 165, 55, 11, 35, 7, 25, 5, 17, 53, 165, 55, 11, 35, 7, 25, 5, 17, 53, 165, 55, 11, 35, 7, 25, 5, 17, 53, 165, 55, 11, 35, 7, 25, 5, 17, 53, 165, 55, 11, 35, 7, 25, 5, 17, 53, 165, 55, 11, 35, 7, 25, 5, 17, 53, 165, 55, 11, 35, 7, 25, 5, 17, 53, 165, 55, 11, 35, 7, 25, 5, 17, 53, 165, 55, 11, 35, 7, 25, 5, 17, 53, 165, 55, 11, 35, 7, 25, 5, 17, 53, 165, 55, 11, 35, 7, 25, 5, 17, 53, 165, 55, 11, 35, 7, 25, 5, 17, 53, 165, 55, 11, 35, 7, 25, 5, 17, 53, 165, 55, 11, 35, 7, 25, 5, 17, 53, 165, 55, 11, 35, 7, 25, 5, 17, 53, 165, 55, 11, 35, 7, 25, 5, 17, 53, 165, 55, 11, 35, 7, 25, 5, 17, 53, 165, 55, 11, 35, 7, 25, 5, 17, 53, 165, 55, 11, 35, 7, 25, 5, 17, 53, 165, 55, 11, 35, 7, 25, 5, 17, 53, 165, 55, 11, 35, 7, 25, 5, 17, 53, 165, 55, 11, 35, 7, 25, 5, 17, 53, 165, 55, 11, 35, 7, 25, 5, 17, 53, 165, 55, 11, 35, 7, 25, 5, 17, 53, 165, 55, 11, 35, 7, 25, 5, 17, 53, 165, 55, 11, 35, 7, 25, 5, 17, 53, 165, 55, 11, 35, 7, 25, 5, 17, 53, 165, 55, 11, 35, 7, 25, 5, 17, 53, 165, 55, 11, 35, 7, 25, 5, 17, 53, 165, 55, 11, 35, 7, 25, 5, 17, 53, 165, 55, 11, 35, 7, 25, 5, 17, 53, 165, 55, 11, 35, 7, 25, 5, 17, 53, 165, 55, 11, 35, 7, 25, 5, 17, 53, 165, 55, 11, 35, 7, 25, 5, 17, 53, 165, 55, 11, 35, 7, 25, 5, 17, 53, 165, 55, 11, 35, 7, 25, 5, 17, 53, 165, 55, 11, 35, 7, 25, 5, 17, 53, 165, 55, 11, 35, 7, 25, 5, 17, 53, 165, 55, 11, 35, 7, 25, 5, 17, 53, 165, 55, 11, 35, 7, 25, 5, 17, 53, 165, 55, 11, 35, 7, 25, 5, 17, 53, 165, 55, 11, 35, 7, 25, 5, 17, 53, 165, 55, 11, 35, 7, 25, 5, 17, 53, 165, 55, 11, 35, 7, 25, 5, 17, 53, 165, 55, 11, 35, 7, 25, 5, 17, 53, 165, 55, 11, 35, 7, 25, 5, 17, 53, 165, 55, 11, 35, 7, 25, 5, 17, 53, 165, 55, 11, 35, 7, 25, 5, 17, 53, 165, 55, 11, 35, 7, 25, 5, 17, 53, 165, 55, 11, 35, 7, 25, 5, 17, 53, 165, 55, 11, 35, 7, 25, 5, 17, 53, 165, 55, 11, 35, 7, 25, 5, 17, 53, 165, 55, 11, 35, 7, 25, 5, 17, 53, 165, 55, 11, 35, 7, 25, 5, 17, 53, 165, 55, 11, 35, 7, 25, 5, 17, 53, 165, 55, 11, 35, 7, 25, 5, 17, 53, 165, 55, 11, 35, 7, 25, 5, 17, 53, 165, 55, 11, 35, 7, 25, 5, 17, 53, 165, 55, 11, 35, 7, 25, 5, 17, 53, 165, 55, 11, 35, 7, 25, 5, 17, 53, 165, 55, 11, 35, 7, 25, 5, 17, 53, 165, 55, 11, 35, 7, 25, 5, 17, 53, 165, 55, 11, 35, 7, 25, 5, 17, 53, 165, 55, 11, 35, 7, 25, 5, 17, 53, 165, 55, 11, 35, 7, 25, 5, 17, 53, 165, 55, 11, 35, 7, 25, 5, 17, 53, 165, 55, 11, 35, 7, 25, 5, 17, 53, 165, 55, 11, 35, 7, 25, 5, 17, 53, 165, 55, 11, 35, 7, 25, 5, 17, 53, 165, 55, 11, 35, 7, 25, 5, 17, 53, 165, 55, 11, 35, 7, 25, 5, 17, 53, 165, 55, 11, 35, 7, 25, 5, 17, 53, 165, 55, 11, 35, 7, 25, 5, 17, 53, 165, 55, 11, 35, 7, 25, 5, 17, 53, 165, 55, 11, 35, 7, 25, 5, 17, 53, 165, 55, 11, 35, 7, 25, 5, 17, 53, 165, 55, 11, 35, 7, 25, 5, 17, 53, 165, 55, 11, 35, 7, 25, 5, 17, 53, 165, 55, 11, 35, 7, 25, 5, 17, 53, 165, 55, 11, 35, 7, 25, 5, 17, 53, 165, 55, 11, 35, 7, 25, 5, 17, 53, 165, 55, 11, 35, 7, 25, 5, 17, 53, 165, 55, 11, 35, 7, 25, 5, 17, 53, 165, 55, 11, 35, 7, 25, 5, 17, 53, 165, 55, 11, 35, 7, 25, 5, 17, 53, 165, 55, 11, 35, 7, 25, 5, 17, 53, 165, 55, 11, 35, 7, 25, 5, 17, 53, 165, 55, 11, 35, 7, 25, 5, 17, 53, 165, 55, 11, 35, 7, 25, 5, 17, 53, 165, 55, 11, 35, 7, 25, 5, 17, 53, 165, 55, 11, 35, 7, 25, 5, 17, 53, 165, 55, 11, 35, 7, 25, 5, 17, 53, 165, 55, 11, 35, 7, 25, 5, 17, 53, 165, 55, 11, 35, 7, 25, 5, 17, 53, 165, 55, 11, 35, 7, 25, 5, 17, 53, 165, 55, 11, 35, 7, 25, 5, 17, 53, 165, 55, 11, 35, 7, 25, 5, 17, 53, 165, 55, 11, 35, 7, 25, 5, 17, 53, 165, 55, 11, 35, 7, 25, 5, 17, 53, 165, 55, 11, 35, 7, 25, 5, 17, 53, 165, 55, 11, 35, 7, 25, 5, 17, 53, 165, 55, 11, 35, 7, 25, 5, 17, 53, 165, 55, 11, 35, 7, 25, 5, 17, 53, 165, 55, 11, 35, 7, 25, 5, 17, 53, 165, 55, 11, 35, 7, 25, 5, 17, 53, 165, 55, 11, 35, 7, 25, 5, 17, 53, 165, 55, 11, 35, 7, 25, 5, 17, 53, 165, 55, 11, 35, 7, 25, 5, 17, 53, 165, 55, 11, 35, 7, 25, 5, 17, 53, 165, 55, 11, 35, 7, 25]\n",
      "23: [23, 75, 25, 5, 17, 53, 165, 55, 11, 35, 7, 25, 5, 17, 53, 165, 55, 11, 35, 7, 25, 5, 17, 53, 165, 55, 11, 35, 7, 25, 5, 17, 53, 165, 55, 11, 35, 7, 25, 5, 17, 53, 165, 55, 11, 35, 7, 25, 5, 17, 53, 165, 55, 11, 35, 7, 25, 5, 17, 53, 165, 55, 11, 35, 7, 25, 5, 17, 53, 165, 55, 11, 35, 7, 25, 5, 17, 53, 165, 55, 11, 35, 7, 25, 5, 17, 53, 165, 55, 11, 35, 7, 25, 5, 17, 53, 165, 55, 11, 35, 7, 25, 5, 17, 53, 165, 55, 11, 35, 7, 25, 5, 17, 53, 165, 55, 11, 35, 7, 25, 5, 17, 53, 165, 55, 11, 35, 7, 25, 5, 17, 53, 165, 55, 11, 35, 7, 25, 5, 17, 53, 165, 55, 11, 35, 7, 25, 5, 17, 53, 165, 55, 11, 35, 7, 25, 5, 17, 53, 165, 55, 11, 35, 7, 25, 5, 17, 53, 165, 55, 11, 35, 7, 25, 5, 17, 53, 165, 55, 11, 35, 7, 25, 5, 17, 53, 165, 55, 11, 35, 7, 25, 5, 17, 53, 165, 55, 11, 35, 7, 25, 5, 17, 53, 165, 55, 11, 35, 7, 25, 5, 17, 53, 165, 55, 11, 35, 7, 25, 5, 17, 53, 165, 55, 11, 35, 7, 25, 5, 17, 53, 165, 55, 11, 35, 7, 25, 5, 17, 53, 165, 55, 11, 35, 7, 25, 5, 17, 53, 165, 55, 11, 35, 7, 25, 5, 17, 53, 165, 55, 11, 35, 7, 25, 5, 17, 53, 165, 55, 11, 35, 7, 25, 5, 17, 53, 165, 55, 11, 35, 7, 25, 5, 17, 53, 165, 55, 11, 35, 7, 25, 5, 17, 53, 165, 55, 11, 35, 7, 25, 5, 17, 53, 165, 55, 11, 35, 7, 25, 5, 17, 53, 165, 55, 11, 35, 7, 25, 5, 17, 53, 165, 55, 11, 35, 7, 25, 5, 17, 53, 165, 55, 11, 35, 7, 25, 5, 17, 53, 165, 55, 11, 35, 7, 25, 5, 17, 53, 165, 55, 11, 35, 7, 25, 5, 17, 53, 165, 55, 11, 35, 7, 25, 5, 17, 53, 165, 55, 11, 35, 7, 25, 5, 17, 53, 165, 55, 11, 35, 7, 25, 5, 17, 53, 165, 55, 11, 35, 7, 25, 5, 17, 53, 165, 55, 11, 35, 7, 25, 5, 17, 53, 165, 55, 11, 35, 7, 25, 5, 17, 53, 165, 55, 11, 35, 7, 25, 5, 17, 53, 165, 55, 11, 35, 7, 25, 5, 17, 53, 165, 55, 11, 35, 7, 25, 5, 17, 53, 165, 55, 11, 35, 7, 25, 5, 17, 53, 165, 55, 11, 35, 7, 25, 5, 17, 53, 165, 55, 11, 35, 7, 25, 5, 17, 53, 165, 55, 11, 35, 7, 25, 5, 17, 53, 165, 55, 11, 35, 7, 25, 5, 17, 53, 165, 55, 11, 35, 7, 25, 5, 17, 53, 165, 55, 11, 35, 7, 25, 5, 17, 53, 165, 55, 11, 35, 7, 25, 5, 17, 53, 165, 55, 11, 35, 7, 25, 5, 17, 53, 165, 55, 11, 35, 7, 25, 5, 17, 53, 165, 55, 11, 35, 7, 25, 5, 17, 53, 165, 55, 11, 35, 7, 25, 5, 17, 53, 165, 55, 11, 35, 7, 25, 5, 17, 53, 165, 55, 11, 35, 7, 25, 5, 17, 53, 165, 55, 11, 35, 7, 25, 5, 17, 53, 165, 55, 11, 35, 7, 25, 5, 17, 53, 165, 55, 11, 35, 7, 25, 5, 17, 53, 165, 55, 11, 35, 7, 25, 5, 17, 53, 165, 55, 11, 35, 7, 25, 5, 17, 53, 165, 55, 11, 35, 7, 25, 5, 17, 53, 165, 55, 11, 35, 7, 25, 5, 17, 53, 165, 55, 11, 35, 7, 25, 5, 17, 53, 165, 55, 11, 35, 7, 25, 5, 17, 53, 165, 55, 11, 35, 7, 25, 5, 17, 53, 165, 55, 11, 35, 7, 25, 5, 17, 53, 165, 55, 11, 35, 7, 25, 5, 17, 53, 165, 55, 11, 35, 7, 25, 5, 17, 53, 165, 55, 11, 35, 7, 25, 5, 17, 53, 165, 55, 11, 35, 7, 25, 5, 17, 53, 165, 55, 11, 35, 7, 25, 5, 17, 53, 165, 55, 11, 35, 7, 25, 5, 17, 53, 165, 55, 11, 35, 7, 25, 5, 17, 53, 165, 55, 11, 35, 7, 25, 5, 17, 53, 165, 55, 11, 35, 7, 25, 5, 17, 53, 165, 55, 11, 35, 7, 25, 5, 17, 53, 165, 55, 11, 35, 7, 25, 5, 17, 53, 165, 55, 11, 35, 7, 25, 5, 17, 53, 165, 55, 11, 35, 7, 25, 5, 17, 53, 165, 55, 11, 35, 7, 25, 5, 17, 53, 165, 55, 11, 35, 7, 25, 5, 17, 53, 165, 55, 11, 35, 7, 25, 5, 17, 53, 165, 55, 11, 35, 7, 25, 5, 17, 53, 165, 55, 11, 35, 7, 25, 5, 17, 53, 165, 55, 11, 35, 7, 25, 5, 17, 53, 165, 55, 11, 35, 7, 25, 5, 17, 53, 165, 55, 11, 35, 7, 25, 5, 17, 53, 165, 55, 11, 35, 7, 25, 5, 17, 53, 165, 55, 11, 35, 7, 25, 5, 17, 53, 165, 55, 11, 35, 7, 25, 5, 17, 53, 165, 55, 11, 35, 7, 25, 5, 17, 53, 165, 55, 11, 35, 7, 25, 5, 17, 53, 165, 55, 11, 35, 7, 25, 5, 17, 53, 165, 55, 11, 35, 7, 25, 5, 17, 53, 165, 55, 11, 35, 7, 25, 5, 17, 53, 165, 55, 11, 35, 7, 25, 5, 17, 53, 165, 55, 11, 35, 7, 25, 5, 17, 53, 165, 55, 11, 35, 7, 25, 5, 17, 53, 165, 55, 11, 35, 7, 25, 5, 17, 53, 165, 55, 11, 35, 7, 25, 5, 17, 53, 165, 55, 11, 35, 7, 25, 5, 17, 53, 165, 55, 11, 35, 7, 25, 5, 17, 53, 165, 55, 11, 35, 7, 25, 5, 17, 53, 165, 55, 11, 35]\n",
      "37: [37, 115, 23, 75, 25, 5, 17, 53, 165, 55, 11, 35, 7, 25, 5, 17, 53, 165, 55, 11, 35, 7, 25, 5, 17, 53, 165, 55, 11, 35, 7, 25, 5, 17, 53, 165, 55, 11, 35, 7, 25, 5, 17, 53, 165, 55, 11, 35, 7, 25, 5, 17, 53, 165, 55, 11, 35, 7, 25, 5, 17, 53, 165, 55, 11, 35, 7, 25, 5, 17, 53, 165, 55, 11, 35, 7, 25, 5, 17, 53, 165, 55, 11, 35, 7, 25, 5, 17, 53, 165, 55, 11, 35, 7, 25, 5, 17, 53, 165, 55, 11, 35, 7, 25, 5, 17, 53, 165, 55, 11, 35, 7, 25, 5, 17, 53, 165, 55, 11, 35, 7, 25, 5, 17, 53, 165, 55, 11, 35, 7, 25, 5, 17, 53, 165, 55, 11, 35, 7, 25, 5, 17, 53, 165, 55, 11, 35, 7, 25, 5, 17, 53, 165, 55, 11, 35, 7, 25, 5, 17, 53, 165, 55, 11, 35, 7, 25, 5, 17, 53, 165, 55, 11, 35, 7, 25, 5, 17, 53, 165, 55, 11, 35, 7, 25, 5, 17, 53, 165, 55, 11, 35, 7, 25, 5, 17, 53, 165, 55, 11, 35, 7, 25, 5, 17, 53, 165, 55, 11, 35, 7, 25, 5, 17, 53, 165, 55, 11, 35, 7, 25, 5, 17, 53, 165, 55, 11, 35, 7, 25, 5, 17, 53, 165, 55, 11, 35, 7, 25, 5, 17, 53, 165, 55, 11, 35, 7, 25, 5, 17, 53, 165, 55, 11, 35, 7, 25, 5, 17, 53, 165, 55, 11, 35, 7, 25, 5, 17, 53, 165, 55, 11, 35, 7, 25, 5, 17, 53, 165, 55, 11, 35, 7, 25, 5, 17, 53, 165, 55, 11, 35, 7, 25, 5, 17, 53, 165, 55, 11, 35, 7, 25, 5, 17, 53, 165, 55, 11, 35, 7, 25, 5, 17, 53, 165, 55, 11, 35, 7, 25, 5, 17, 53, 165, 55, 11, 35, 7, 25, 5, 17, 53, 165, 55, 11, 35, 7, 25, 5, 17, 53, 165, 55, 11, 35, 7, 25, 5, 17, 53, 165, 55, 11, 35, 7, 25, 5, 17, 53, 165, 55, 11, 35, 7, 25, 5, 17, 53, 165, 55, 11, 35, 7, 25, 5, 17, 53, 165, 55, 11, 35, 7, 25, 5, 17, 53, 165, 55, 11, 35, 7, 25, 5, 17, 53, 165, 55, 11, 35, 7, 25, 5, 17, 53, 165, 55, 11, 35, 7, 25, 5, 17, 53, 165, 55, 11, 35, 7, 25, 5, 17, 53, 165, 55, 11, 35, 7, 25, 5, 17, 53, 165, 55, 11, 35, 7, 25, 5, 17, 53, 165, 55, 11, 35, 7, 25, 5, 17, 53, 165, 55, 11, 35, 7, 25, 5, 17, 53, 165, 55, 11, 35, 7, 25, 5, 17, 53, 165, 55, 11, 35, 7, 25, 5, 17, 53, 165, 55, 11, 35, 7, 25, 5, 17, 53, 165, 55, 11, 35, 7, 25, 5, 17, 53, 165, 55, 11, 35, 7, 25, 5, 17, 53, 165, 55, 11, 35, 7, 25, 5, 17, 53, 165, 55, 11, 35, 7, 25, 5, 17, 53, 165, 55, 11, 35, 7, 25, 5, 17, 53, 165, 55, 11, 35, 7, 25, 5, 17, 53, 165, 55, 11, 35, 7, 25, 5, 17, 53, 165, 55, 11, 35, 7, 25, 5, 17, 53, 165, 55, 11, 35, 7, 25, 5, 17, 53, 165, 55, 11, 35, 7, 25, 5, 17, 53, 165, 55, 11, 35, 7, 25, 5, 17, 53, 165, 55, 11, 35, 7, 25, 5, 17, 53, 165, 55, 11, 35, 7, 25, 5, 17, 53, 165, 55, 11, 35, 7, 25, 5, 17, 53, 165, 55, 11, 35, 7, 25, 5, 17, 53, 165, 55, 11, 35, 7, 25, 5, 17, 53, 165, 55, 11, 35, 7, 25, 5, 17, 53, 165, 55, 11, 35, 7, 25, 5, 17, 53, 165, 55, 11, 35, 7, 25, 5, 17, 53, 165, 55, 11, 35, 7, 25, 5, 17, 53, 165, 55, 11, 35, 7, 25, 5, 17, 53, 165, 55, 11, 35, 7, 25, 5, 17, 53, 165, 55, 11, 35, 7, 25, 5, 17, 53, 165, 55, 11, 35, 7, 25, 5, 17, 53, 165, 55, 11, 35, 7, 25, 5, 17, 53, 165, 55, 11, 35, 7, 25, 5, 17, 53, 165, 55, 11, 35, 7, 25, 5, 17, 53, 165, 55, 11, 35, 7, 25, 5, 17, 53, 165, 55, 11, 35, 7, 25, 5, 17, 53, 165, 55, 11, 35, 7, 25, 5, 17, 53, 165, 55, 11, 35, 7, 25, 5, 17, 53, 165, 55, 11, 35, 7, 25, 5, 17, 53, 165, 55, 11, 35, 7, 25, 5, 17, 53, 165, 55, 11, 35, 7, 25, 5, 17, 53, 165, 55, 11, 35, 7, 25, 5, 17, 53, 165, 55, 11, 35, 7, 25, 5, 17, 53, 165, 55, 11, 35, 7, 25, 5, 17, 53, 165, 55, 11, 35, 7, 25, 5, 17, 53, 165, 55, 11, 35, 7, 25, 5, 17, 53, 165, 55, 11, 35, 7, 25, 5, 17, 53, 165, 55, 11, 35, 7, 25, 5, 17, 53, 165, 55, 11, 35, 7, 25, 5, 17, 53, 165, 55, 11, 35, 7, 25, 5, 17, 53, 165, 55, 11, 35, 7, 25, 5, 17, 53, 165, 55, 11, 35, 7, 25, 5, 17, 53, 165, 55, 11, 35, 7, 25, 5, 17, 53, 165, 55, 11, 35, 7, 25, 5, 17, 53, 165, 55, 11, 35, 7, 25, 5, 17, 53, 165, 55, 11, 35, 7, 25, 5, 17, 53, 165, 55, 11, 35, 7, 25, 5, 17, 53, 165, 55, 11, 35, 7, 25, 5, 17, 53, 165, 55, 11, 35, 7, 25, 5, 17, 53, 165, 55, 11, 35, 7, 25, 5, 17, 53, 165, 55, 11, 35, 7, 25, 5, 17, 53, 165, 55, 11, 35, 7, 25, 5, 17, 53, 165, 55, 11, 35, 7, 25, 5, 17, 53, 165, 55, 11, 35, 7, 25, 5, 17, 53, 165, 55]\n",
      "49: [49, 7, 25, 5, 17, 53, 165, 55, 11, 35, 7, 25, 5, 17, 53, 165, 55, 11, 35, 7, 25, 5, 17, 53, 165, 55, 11, 35, 7, 25, 5, 17, 53, 165, 55, 11, 35, 7, 25, 5, 17, 53, 165, 55, 11, 35, 7, 25, 5, 17, 53, 165, 55, 11, 35, 7, 25, 5, 17, 53, 165, 55, 11, 35, 7, 25, 5, 17, 53, 165, 55, 11, 35, 7, 25, 5, 17, 53, 165, 55, 11, 35, 7, 25, 5, 17, 53, 165, 55, 11, 35, 7, 25, 5, 17, 53, 165, 55, 11, 35, 7, 25, 5, 17, 53, 165, 55, 11, 35, 7, 25, 5, 17, 53, 165, 55, 11, 35, 7, 25, 5, 17, 53, 165, 55, 11, 35, 7, 25, 5, 17, 53, 165, 55, 11, 35, 7, 25, 5, 17, 53, 165, 55, 11, 35, 7, 25, 5, 17, 53, 165, 55, 11, 35, 7, 25, 5, 17, 53, 165, 55, 11, 35, 7, 25, 5, 17, 53, 165, 55, 11, 35, 7, 25, 5, 17, 53, 165, 55, 11, 35, 7, 25, 5, 17, 53, 165, 55, 11, 35, 7, 25, 5, 17, 53, 165, 55, 11, 35, 7, 25, 5, 17, 53, 165, 55, 11, 35, 7, 25, 5, 17, 53, 165, 55, 11, 35, 7, 25, 5, 17, 53, 165, 55, 11, 35, 7, 25, 5, 17, 53, 165, 55, 11, 35, 7, 25, 5, 17, 53, 165, 55, 11, 35, 7, 25, 5, 17, 53, 165, 55, 11, 35, 7, 25, 5, 17, 53, 165, 55, 11, 35, 7, 25, 5, 17, 53, 165, 55, 11, 35, 7, 25, 5, 17, 53, 165, 55, 11, 35, 7, 25, 5, 17, 53, 165, 55, 11, 35, 7, 25, 5, 17, 53, 165, 55, 11, 35, 7, 25, 5, 17, 53, 165, 55, 11, 35, 7, 25, 5, 17, 53, 165, 55, 11, 35, 7, 25, 5, 17, 53, 165, 55, 11, 35, 7, 25, 5, 17, 53, 165, 55, 11, 35, 7, 25, 5, 17, 53, 165, 55, 11, 35, 7, 25, 5, 17, 53, 165, 55, 11, 35, 7, 25, 5, 17, 53, 165, 55, 11, 35, 7, 25, 5, 17, 53, 165, 55, 11, 35, 7, 25, 5, 17, 53, 165, 55, 11, 35, 7, 25, 5, 17, 53, 165, 55, 11, 35, 7, 25, 5, 17, 53, 165, 55, 11, 35, 7, 25, 5, 17, 53, 165, 55, 11, 35, 7, 25, 5, 17, 53, 165, 55, 11, 35, 7, 25, 5, 17, 53, 165, 55, 11, 35, 7, 25, 5, 17, 53, 165, 55, 11, 35, 7, 25, 5, 17, 53, 165, 55, 11, 35, 7, 25, 5, 17, 53, 165, 55, 11, 35, 7, 25, 5, 17, 53, 165, 55, 11, 35, 7, 25, 5, 17, 53, 165, 55, 11, 35, 7, 25, 5, 17, 53, 165, 55, 11, 35, 7, 25, 5, 17, 53, 165, 55, 11, 35, 7, 25, 5, 17, 53, 165, 55, 11, 35, 7, 25, 5, 17, 53, 165, 55, 11, 35, 7, 25, 5, 17, 53, 165, 55, 11, 35, 7, 25, 5, 17, 53, 165, 55, 11, 35, 7, 25, 5, 17, 53, 165, 55, 11, 35, 7, 25, 5, 17, 53, 165, 55, 11, 35, 7, 25, 5, 17, 53, 165, 55, 11, 35, 7, 25, 5, 17, 53, 165, 55, 11, 35, 7, 25, 5, 17, 53, 165, 55, 11, 35, 7, 25, 5, 17, 53, 165, 55, 11, 35, 7, 25, 5, 17, 53, 165, 55, 11, 35, 7, 25, 5, 17, 53, 165, 55, 11, 35, 7, 25, 5, 17, 53, 165, 55, 11, 35, 7, 25, 5, 17, 53, 165, 55, 11, 35, 7, 25, 5, 17, 53, 165, 55, 11, 35, 7, 25, 5, 17, 53, 165, 55, 11, 35, 7, 25, 5, 17, 53, 165, 55, 11, 35, 7, 25, 5, 17, 53, 165, 55, 11, 35, 7, 25, 5, 17, 53, 165, 55, 11, 35, 7, 25, 5, 17, 53, 165, 55, 11, 35, 7, 25, 5, 17, 53, 165, 55, 11, 35, 7, 25, 5, 17, 53, 165, 55, 11, 35, 7, 25, 5, 17, 53, 165, 55, 11, 35, 7, 25, 5, 17, 53, 165, 55, 11, 35, 7, 25, 5, 17, 53, 165, 55, 11, 35, 7, 25, 5, 17, 53, 165, 55, 11, 35, 7, 25, 5, 17, 53, 165, 55, 11, 35, 7, 25, 5, 17, 53, 165, 55, 11, 35, 7, 25, 5, 17, 53, 165, 55, 11, 35, 7, 25, 5, 17, 53, 165, 55, 11, 35, 7, 25, 5, 17, 53, 165, 55, 11, 35, 7, 25, 5, 17, 53, 165, 55, 11, 35, 7, 25, 5, 17, 53, 165, 55, 11, 35, 7, 25, 5, 17, 53, 165, 55, 11, 35, 7, 25, 5, 17, 53, 165, 55, 11, 35, 7, 25, 5, 17, 53, 165, 55, 11, 35, 7, 25, 5, 17, 53, 165, 55, 11, 35, 7, 25, 5, 17, 53, 165, 55, 11, 35, 7, 25, 5, 17, 53, 165, 55, 11, 35, 7, 25, 5, 17, 53, 165, 55, 11, 35, 7, 25, 5, 17, 53, 165, 55, 11, 35, 7, 25, 5, 17, 53, 165, 55, 11, 35, 7, 25, 5, 17, 53, 165, 55, 11, 35, 7, 25, 5, 17, 53, 165, 55, 11, 35, 7, 25, 5, 17, 53, 165, 55, 11, 35, 7, 25, 5, 17, 53, 165, 55, 11, 35, 7, 25, 5, 17, 53, 165, 55, 11, 35, 7, 25, 5, 17, 53, 165, 55, 11, 35, 7, 25, 5, 17, 53, 165, 55, 11, 35, 7, 25, 5, 17, 53, 165, 55, 11, 35, 7, 25, 5, 17, 53, 165, 55, 11, 35, 7, 25, 5, 17, 53, 165, 55, 11, 35, 7, 25, 5, 17, 53, 165, 55, 11, 35, 7, 25, 5, 17, 53, 165, 55, 11, 35, 7, 25, 5, 17, 53, 165, 55, 11, 35, 7, 25, 5, 17, 53, 165, 55, 11, 35, 7, 25, 5, 17, 53, 165, 55, 11, 35]\n"
     ]
    }
   ],
   "source": [
    "from sympy import isprime, nextprime, primefactors\n",
    "\n",
    "def prime_vortex(n, max_steps=1000):\n",
    "    sequence = []\n",
    "    for _ in range(max_steps):\n",
    "        sequence.append(n)\n",
    "        if n == 0:\n",
    "            break\n",
    "        if isprime(n):\n",
    "            n = 2 * n + nextprime(n)\n",
    "        else:\n",
    "            factors = primefactors(n)\n",
    "            k = factors[0] if factors else 1\n",
    "            n = n // k\n",
    "    return sequence\n",
    "\n",
    "# Test with intriguing numbers\n",
    "numbers = [7, 15, 23, 37, 49]\n",
    "for num in numbers:\n",
    "    print(f\"{num}: {prime_vortex(num)}\")\n"
   ]
  },
  {
   "cell_type": "code",
   "execution_count": 2,
   "id": "7da014",
   "metadata": {
    "collapsed": false
   },
   "outputs": [
    {
     "name": "stdout",
     "output_type": "stream",
     "text": [
      "\n",
      "Start: 7\n",
      "Cycle detected (length 9): [7, 25, 5, 17, 53, 165, 55, 11, 35]\n",
      "Cycle Analysis:\n",
      "Number: 7, Prime: True, Parity: odd, Prime Factors: []\n",
      "Number: 25, Prime: False, Parity: odd, Prime Factors: [5]\n",
      "Number: 5, Prime: True, Parity: odd, Prime Factors: []\n",
      "Number: 17, Prime: True, Parity: odd, Prime Factors: []\n",
      "Number: 53, Prime: True, Parity: odd, Prime Factors: []\n",
      "Number: 165, Prime: False, Parity: odd, Prime Factors: [3, 5, 11]\n",
      "Number: 55, Prime: False, Parity: odd, Prime Factors: [5, 11]\n",
      "Number: 11, Prime: True, Parity: odd, Prime Factors: []\n",
      "Number: 35, Prime: False, Parity: odd, Prime Factors: [5, 7]\n",
      "Total steps: 9\n",
      "\n",
      "Start: 15\n",
      "Cycle detected (length 9): [5, 17, 53, 165, 55, 11, 35, 7, 25]\n",
      "Cycle Analysis:\n",
      "Number: 5, Prime: True, Parity: odd, Prime Factors: []\n",
      "Number: 17, Prime: True, Parity: odd, Prime Factors: []\n",
      "Number: 53, Prime: True, Parity: odd, Prime Factors: []\n",
      "Number: 165, Prime: False, Parity: odd, Prime Factors: [3, 5, 11]\n",
      "Number: 55, Prime: False, Parity: odd, Prime Factors: [5, 11]\n",
      "Number: 11, Prime: True, Parity: odd, Prime Factors: []\n",
      "Number: 35, Prime: False, Parity: odd, Prime Factors: [5, 7]\n",
      "Number: 7, Prime: True, Parity: odd, Prime Factors: []\n",
      "Number: 25, Prime: False, Parity: odd, Prime Factors: [5]\n",
      "Total steps: 10\n",
      "\n",
      "Start: 23\n",
      "Cycle detected (length 9): [25, 5, 17, 53, 165, 55, 11, 35, 7]\n",
      "Cycle Analysis:\n",
      "Number: 25, Prime: False, Parity: odd, Prime Factors: [5]\n",
      "Number: 5, Prime: True, Parity: odd, Prime Factors: []\n",
      "Number: 17, Prime: True, Parity: odd, Prime Factors: []\n",
      "Number: 53, Prime: True, Parity: odd, Prime Factors: []\n",
      "Number: 165, Prime: False, Parity: odd, Prime Factors: [3, 5, 11]\n",
      "Number: 55, Prime: False, Parity: odd, Prime Factors: [5, 11]\n",
      "Number: 11, Prime: True, Parity: odd, Prime Factors: []\n",
      "Number: 35, Prime: False, Parity: odd, Prime Factors: [5, 7]\n",
      "Number: 7, Prime: True, Parity: odd, Prime Factors: []\n",
      "Total steps: 11\n",
      "\n",
      "Start: 37\n",
      "Cycle detected (length 9): [25, 5, 17, 53, 165, 55, 11, 35, 7]\n",
      "Cycle Analysis:\n",
      "Number: 25, Prime: False, Parity: odd, Prime Factors: [5]\n",
      "Number: 5, Prime: True, Parity: odd, Prime Factors: []\n",
      "Number: 17, Prime: True, Parity: odd, Prime Factors: []\n",
      "Number: 53, Prime: True, Parity: odd, Prime Factors: []\n",
      "Number: 165, Prime: False, Parity: odd, Prime Factors: [3, 5, 11]\n",
      "Number: 55, Prime: False, Parity: odd, Prime Factors: [5, 11]\n",
      "Number: 11, Prime: True, Parity: odd, Prime Factors: []\n",
      "Number: 35, Prime: False, Parity: odd, Prime Factors: [5, 7]\n",
      "Number: 7, Prime: True, Parity: odd, Prime Factors: []\n",
      "Total steps: 13\n",
      "\n",
      "Start: 49\n",
      "Cycle detected (length 9): [7, 25, 5, 17, 53, 165, 55, 11, 35]\n",
      "Cycle Analysis:\n",
      "Number: 7, Prime: True, Parity: odd, Prime Factors: []\n",
      "Number: 25, Prime: False, Parity: odd, Prime Factors: [5]\n",
      "Number: 5, Prime: True, Parity: odd, Prime Factors: []\n",
      "Number: 17, Prime: True, Parity: odd, Prime Factors: []\n",
      "Number: 53, Prime: True, Parity: odd, Prime Factors: []\n",
      "Number: 165, Prime: False, Parity: odd, Prime Factors: [3, 5, 11]\n",
      "Number: 55, Prime: False, Parity: odd, Prime Factors: [5, 11]\n",
      "Number: 11, Prime: True, Parity: odd, Prime Factors: []\n",
      "Number: 35, Prime: False, Parity: odd, Prime Factors: [5, 7]\n",
      "Total steps: 10\n",
      "\n",
      "Start: 101\n",
      "Cycle detected (length 9): [7, 25, 5, 17, 53, 165, 55, 11, 35]\n",
      "Cycle Analysis:\n",
      "Number: 7, Prime: True, Parity: odd, Prime Factors: []\n",
      "Number: 25, Prime: False, Parity: odd, Prime Factors: [5]\n",
      "Number: 5, Prime: True, Parity: odd, Prime Factors: []\n",
      "Number: 17, Prime: True, Parity: odd, Prime Factors: []\n",
      "Number: 53, Prime: True, Parity: odd, Prime Factors: []\n",
      "Number: 165, Prime: False, Parity: odd, Prime Factors: [3, 5, 11]\n",
      "Number: 55, Prime: False, Parity: odd, Prime Factors: [5, 11]\n",
      "Number: 11, Prime: True, Parity: odd, Prime Factors: []\n",
      "Number: 35, Prime: False, Parity: odd, Prime Factors: [5, 7]\n",
      "Total steps: 15\n",
      "\n",
      "Start: 1009\n",
      "Cycle detected (length 9): [55, 11, 35, 7, 25, 5, 17, 53, 165]\n",
      "Cycle Analysis:\n",
      "Number: 55, Prime: False, Parity: odd, Prime Factors: [5, 11]\n",
      "Number: 11, Prime: True, Parity: odd, Prime Factors: []\n",
      "Number: 35, Prime: False, Parity: odd, Prime Factors: [5, 7]\n",
      "Number: 7, Prime: True, Parity: odd, Prime Factors: []\n",
      "Number: 25, Prime: False, Parity: odd, Prime Factors: [5]\n",
      "Number: 5, Prime: True, Parity: odd, Prime Factors: []\n",
      "Number: 17, Prime: True, Parity: odd, Prime Factors: []\n",
      "Number: 53, Prime: True, Parity: odd, Prime Factors: []\n",
      "Number: 165, Prime: False, Parity: odd, Prime Factors: [3, 5, 11]\n",
      "Total steps: 18\n",
      "\n",
      "Start: 10007\n",
      "Cycle detected (length 9): [25, 5, 17, 53, 165, 55, 11, 35, 7]\n",
      "Cycle Analysis:\n",
      "Number: 25, Prime: False, Parity: odd, Prime Factors: [5]\n",
      "Number: 5, Prime: True, Parity: odd, Prime Factors: []\n",
      "Number: 17, Prime: True, Parity: odd, Prime Factors: []\n",
      "Number: 53, Prime: True, Parity: odd, Prime Factors: []\n",
      "Number: 165, Prime: False, Parity: odd, Prime Factors: [3, 5, 11]\n",
      "Number: 55, Prime: False, Parity: odd, Prime Factors: [5, 11]\n",
      "Number: 11, Prime: True, Parity: odd, Prime Factors: []\n",
      "Number: 35, Prime: False, Parity: odd, Prime Factors: [5, 7]\n",
      "Number: 7, Prime: True, Parity: odd, Prime Factors: []\n",
      "Total steps: 20\n",
      "\n",
      "Start: 100\n",
      "Cycle detected (length 9): [25, 5, 17, 53, 165, 55, 11, 35, 7]\n",
      "Cycle Analysis:\n",
      "Number: 25, Prime: False, Parity: odd, Prime Factors: [5]\n",
      "Number: 5, Prime: True, Parity: odd, Prime Factors: []\n",
      "Number: 17, Prime: True, Parity: odd, Prime Factors: []\n",
      "Number: 53, Prime: True, Parity: odd, Prime Factors: []\n",
      "Number: 165, Prime: False, Parity: odd, Prime Factors: [3, 5, 11]\n",
      "Number: 55, Prime: False, Parity: odd, Prime Factors: [5, 11]\n",
      "Number: 11, Prime: True, Parity: odd, Prime Factors: []\n",
      "Number: 35, Prime: False, Parity: odd, Prime Factors: [5, 7]\n",
      "Number: 7, Prime: True, Parity: odd, Prime Factors: []\n",
      "Total steps: 11\n",
      "\n",
      "Start: 1000\n",
      "Cycle detected (length 9): [25, 5, 17, 53, 165, 55, 11, 35, 7]\n",
      "Cycle Analysis:\n",
      "Number: 25, Prime: False, Parity: odd, Prime Factors: [5]\n",
      "Number: 5, Prime: True, Parity: odd, Prime Factors: []\n",
      "Number: 17, Prime: True, Parity: odd, Prime Factors: []\n",
      "Number: 53, Prime: True, Parity: odd, Prime Factors: []\n",
      "Number: 165, Prime: False, Parity: odd, Prime Factors: [3, 5, 11]\n",
      "Number: 55, Prime: False, Parity: odd, Prime Factors: [5, 11]\n",
      "Number: 11, Prime: True, Parity: odd, Prime Factors: []\n",
      "Number: 35, Prime: False, Parity: odd, Prime Factors: [5, 7]\n",
      "Number: 7, Prime: True, Parity: odd, Prime Factors: []\n",
      "Total steps: 13\n",
      "\n",
      "Start: 10000\n",
      "Cycle detected (length 9): [25, 5, 17, 53, 165, 55, 11, 35, 7]\n",
      "Cycle Analysis:\n",
      "Number: 25, Prime: False, Parity: odd, Prime Factors: [5]\n",
      "Number: 5, Prime: True, Parity: odd, Prime Factors: []\n",
      "Number: 17, Prime: True, Parity: odd, Prime Factors: []\n",
      "Number: 53, Prime: True, Parity: odd, Prime Factors: []\n",
      "Number: 165, Prime: False, Parity: odd, Prime Factors: [3, 5, 11]\n",
      "Number: 55, Prime: False, Parity: odd, Prime Factors: [5, 11]\n",
      "Number: 11, Prime: True, Parity: odd, Prime Factors: []\n",
      "Number: 35, Prime: False, Parity: odd, Prime Factors: [5, 7]\n",
      "Number: 7, Prime: True, Parity: odd, Prime Factors: []\n",
      "Total steps: 15\n",
      "\n",
      "Start: 100003\n",
      "Cycle detected (length 9): [7, 25, 5, 17, 53, 165, 55, 11, 35]\n",
      "Cycle Analysis:\n",
      "Number: 7, Prime: True, Parity: odd, Prime Factors: []\n",
      "Number: 25, Prime: False, Parity: odd, Prime Factors: [5]\n",
      "Number: 5, Prime: True, Parity: odd, Prime Factors: []\n",
      "Number: 17, Prime: True, Parity: odd, Prime Factors: []\n",
      "Number: 53, Prime: True, Parity: odd, Prime Factors: []\n",
      "Number: 165, Prime: False, Parity: odd, Prime Factors: [3, 5, 11]\n",
      "Number: 55, Prime: False, Parity: odd, Prime Factors: [5, 11]\n",
      "Number: 11, Prime: True, Parity: odd, Prime Factors: []\n",
      "Number: 35, Prime: False, Parity: odd, Prime Factors: [5, 7]\n",
      "Total steps: 24\n",
      "\n",
      "Start: 1000003\n",
      "Cycle detected (length 9): [11, 35, 7, 25, 5, 17, 53, 165, 55]\n",
      "Cycle Analysis:\n",
      "Number: 11, Prime: True, Parity: odd, Prime Factors: []\n",
      "Number: 35, Prime: False, Parity: odd, Prime Factors: [5, 7]\n",
      "Number: 7, Prime: True, Parity: odd, Prime Factors: []\n",
      "Number: 25, Prime: False, Parity: odd, Prime Factors: [5]\n",
      "Number: 5, Prime: True, Parity: odd, Prime Factors: []\n",
      "Number: 17, Prime: True, Parity: odd, Prime Factors: []\n",
      "Number: 53, Prime: True, Parity: odd, Prime Factors: []\n",
      "Number: 165, Prime: False, Parity: odd, Prime Factors: [3, 5, 11]\n",
      "Number: 55, Prime: False, Parity: odd, Prime Factors: [5, 11]\n",
      "Total steps: 17\n"
     ]
    },
    {
     "data": {
      "image/png": "[encoded data removed]",
      "text/plain": [
       "<Figure size 1000x500 with 1 Axes>"
      ]
     },
     "execution_count": 2,
     "metadata": {
     },
     "output_type": "execute_result"
    }
   ],
   "source": [
    "import matplotlib.pyplot as plt\n",
    "from sympy import isprime, nextprime, primefactors\n",
    "\n",
    "def prime_vortex(n, max_steps=1000):\n",
    "    \"\"\"\n",
    "    Generate the Prime Vortex sequence for a starting integer n.\n",
    "    Returns the full sequence and the detected cycle (if any).\n",
    "    \"\"\"\n",
    "    seen = {}\n",
    "    seq = []\n",
    "    for i in range(max_steps):\n",
    "        if n in seen:\n",
    "            # Cycle detected\n",
    "            cycle_start = seen[n]\n",
    "            cycle = seq[cycle_start:]\n",
    "            return seq, cycle\n",
    "        seen[n] = i\n",
    "        seq.append(n)\n",
    "        if isprime(n):\n",
    "            n = 2 * n + nextprime(n)\n",
    "        else:\n",
    "            factors = primefactors(n)\n",
    "            n = n // factors[0] if factors else n\n",
    "    return seq, None  # No cycle found within max_steps\n",
    "\n",
    "def analyze_cycle(cycle):\n",
    "    \"\"\"\n",
    "    Analyze the properties of a cycle: parity, primality, and prime factors.\n",
    "    \"\"\"\n",
    "    analysis = []\n",
    "    for n in cycle:\n",
    "        analysis.append({\n",
    "            \"number\": n,\n",
    "            \"is_prime\": isprime(n),\n",
    "            \"parity\": \"odd\" if n % 2 else \"even\",\n",
    "            \"prime_factors\": primefactors(n) if not isprime(n) else []\n",
    "        })\n",
    "    return analysis\n",
    "\n",
    "def print_cycle_analysis(analysis):\n",
    "    print(\"Cycle Analysis:\")\n",
    "    for entry in analysis:\n",
    "        print(\n",
    "            f\"Number: {entry['number']}, \"\n",
    "            f\"Prime: {entry['is_prime']}, \"\n",
    "            f\"Parity: {entry['parity']}, \"\n",
    "            f\"Prime Factors: {entry['prime_factors']}\"\n",
    "        )\n",
    "\n",
    "def plot_sequence(seq, title=\"Prime Vortex Sequence Path\"):\n",
    "    plt.figure(figsize=(10, 5))\n",
    "    plt.plot(seq, marker='o', linestyle='-', markersize=4)\n",
    "    plt.xlabel('Step')\n",
    "    plt.ylabel('Value')\n",
    "    plt.title(title)\n",
    "    plt.grid(True)\n",
    "    plt.tight_layout()\n",
    "    plt.show()\n",
    "\n",
    "if __name__ == \"__main__\":\n",
    "    # Test numbers: small, large, primes, and composites\n",
    "    test_numbers = [\n",
    "        7, 15, 23, 37, 49,  # Small numbers\n",
    "        101, 1009, 10007,   # Larger primes\n",
    "        100, 1000, 10000,   # Larger composites\n",
    "        nextprime(10**5), nextprime(10**6)\n",
    "    ]\n",
    "\n",
    "    for n in test_numbers:\n",
    "        seq, cycle = prime_vortex(n, max_steps=2000)\n",
    "        print(f\"\\nStart: {n}\")\n",
    "        if cycle:\n",
    "            print(f\"Cycle detected (length {len(cycle)}): {cycle}\")\n",
    "            analysis = analyze_cycle(cycle)\n",
    "            print_cycle_analysis(analysis)\n",
    "        else:\n",
    "            print(\"No cycle detected within step limit (possible escapee).\")\n",
    "        print(f\"Total steps: {len(seq)}\")\n",
    "\n",
    "    # Plot the sequence for a selected large starting value\n",
    "    selected = 10007\n",
    "    seq, cycle = prime_vortex(selected, max_steps=2000)\n",
    "    plot_sequence(seq, title=f\"Prime Vortex Sequence Path (start={selected})\")\n"
   ]
  },
  {
   "cell_type": "code",
   "execution_count": 3,
   "id": "a8558c",
   "metadata": {
    "collapsed": false
   },
   "outputs": [
    {
     "name": "stdout",
     "output_type": "stream",
     "text": [
      "Start: 1000001\n",
      "Cycle detected (length 9): [25, 5, 17, 53, 165, 55, 11, 35, 7]\n",
      "Total steps: 23\n",
      "\n",
      "Start: 10000003\n",
      "Cycle detected (length 9): [7, 25, 5, 17, 53, 165, 55, 11, 35]\n",
      "Total steps: 21\n",
      "\n",
      "Start: 999983\n",
      "Cycle detected (length 9): [53, 165, 55, 11, 35, 7, 25, 5, 17]\n",
      "Total steps: 20\n",
      "\n",
      "Start: 123456789\n",
      "Cycle detected (length 9): [7, 25, 5, 17, 53, 165, 55, 11, 35]\n",
      "Total steps: 20\n",
      "\n"
     ]
    }
   ],
   "source": [
    "for n in [10**6 + 1, 10**7 + 3, 999983, 123456789]:\n",
    "    seq, cycle = prime_vortex(n, max_steps=5000)\n",
    "    print(f\"Start: {n}\")\n",
    "    if cycle:\n",
    "        print(f\"Cycle detected (length {len(cycle)}): {cycle}\")\n",
    "    else:\n",
    "        print(\"No cycle detected within step limit (possible escapee).\")\n",
    "    print(f\"Total steps: {len(seq)}\\n\")\n"
   ]
  },
  {
   "cell_type": "code",
   "execution_count": 1,
   "id": "1bafe6",
   "metadata": {
    "collapsed": false
   },
   "outputs": [
    {
     "name": "stdout",
     "output_type": "stream",
     "text": [
      "Start: 100000001\n",
      "Cycle detected (length 9): [11, 35, 7, 25, 5, 17, 53, 165, 55]\n",
      "Total steps: 32\n",
      "\n",
      "Start: 9999994800000451\n",
      "Cycle detected (length 9): [17, 53, 165, 55, 11, 35, 7, 25, 5]\n",
      "Total steps: 24\n",
      "\n",
      "Start: 12345678987654321\n",
      "Cycle detected (length 9): [25, 5, 17, 53, 165, 55, 11, 35, 7]\n",
      "Total steps: 31\n",
      "\n",
      "Start: 600851475143\n",
      "Cycle detected (length 9): [7, 25, 5, 17, 53, 165, 55, 11, 35]\n",
      "Total steps: 21\n",
      "\n",
      "Start: 1000000000039\n",
      "Cycle detected (length 9): [7, 25, 5, 17, 53, 165, 55, 11, 35]\n",
      "Total steps: 37\n",
      "\n"
     ]
    }
   ],
   "source": [
    "from sympy import isprime, nextprime, primefactors\n",
    "\n",
    "def prime_vortex(n, max_steps=10000):\n",
    "    seen = {}\n",
    "    seq = []\n",
    "    for i in range(max_steps):\n",
    "        if n in seen:\n",
    "            cycle_start = seen[n]\n",
    "            cycle = seq[cycle_start:]\n",
    "            return seq, cycle\n",
    "        seen[n] = i\n",
    "        seq.append(n)\n",
    "        if isprime(n):\n",
    "            n = 2 * n + nextprime(n)\n",
    "        else:\n",
    "            factors = primefactors(n)\n",
    "            n = n // factors[0] if factors else n\n",
    "    return seq, None\n",
    "\n",
    "# Test very large and special numbers\n",
    "test_numbers = [\n",
    "    10**8 + 1,\n",
    "    99999989 * 99999959,  # product of two large primes\n",
    "    12345678987654321,    # palindromic number\n",
    "    600851475143,         # famous large composite\n",
    "    10**12 + 39           # large random\n",
    "]\n",
    "\n",
    "for n in test_numbers:\n",
    "    seq, cycle = prime_vortex(n)\n",
    "    print(f\"Start: {n}\")\n",
    "    if cycle:\n",
    "        print(f\"Cycle detected (length {len(cycle)}): {cycle}\")\n",
    "    else:\n",
    "        print(\"No cycle detected within step limit.\")\n",
    "    print(f\"Total steps: {len(seq)}\\n\")\n"
   ]
  },
  {
   "cell_type": "code",
   "execution_count": 2,
   "id": "0de2d5",
   "metadata": {
    "collapsed": false
   },
   "outputs": [
    {
     "name": "stdout",
     "output_type": "stream",
     "text": [
      "              Start Value |  Steps | Cycle Detected |                         Cycle (rotation)\n",
      "-----------------------------------------------------------------------------------------------\n",
      "         1000000000000001 |     26 |           True | [7, 25, 5, 17, 53, 165, 55, 11, 35]\n",
      "        10000000000000003 |     24 |           True | [25, 5, 17, 53, 165, 55, 11, 35, 7]\n",
      "       100000000000000019 |     27 |           True | [11, 35, 7, 25, 5, 17, 53, 165, 55]\n",
      "      1000000000000000039 |     27 |           True | [25, 5, 17, 53, 165, 55, 11, 35, 7]\n",
      "1000000830000197500010101 |     24 |           True | [25, 5, 17, 53, 165, 55, 11, 35, 7]\n"
     ]
    },
    {
     "name": "stdout",
     "output_type": "stream",
     "text": [
      "1000000037000000399000001323 |     28 |           True | [55, 11, 35, 7, 25, 5, 17, 53, 165]\n",
      "    100000000520000000627 |     23 |           True | [11, 35, 7, 25, 5, 17, 53, 165, 55]\n"
     ]
    },
    {
     "name": "stdout",
     "output_type": "stream",
     "text": [
      "1000000078900000636300000931 |     26 |           True | [7, 25, 5, 17, 53, 165, 55, 11, 35]\n",
      "999999990100000032669999964063 |     30 |           True | [7, 25, 5, 17, 53, 165, 55, 11, 35]\n",
      "123456789123456789123456789 |     41 |           True | [55, 11, 35, 7, 25, 5, 17, 53, 165]\n",
      "\n",
      "Outliers (steps > 50):\n",
      "Done. Results saved to 'prime_vortex_large_test_results.txt'.\n"
     ]
    }
   ],
   "source": [
    "from sympy import isprime, nextprime, primefactors, primerange\n",
    "import time\n",
    "\n",
    "def prime_vortex(n, max_steps=100000):\n",
    "    seen = {}\n",
    "    seq = []\n",
    "    for i in range(max_steps):\n",
    "        if n in seen:\n",
    "            cycle_start = seen[n]\n",
    "            cycle = seq[cycle_start:]\n",
    "            return len(seq), cycle\n",
    "        seen[n] = i\n",
    "        seq.append(n)\n",
    "        if isprime(n):\n",
    "            n = 2 * n + nextprime(n)\n",
    "        else:\n",
    "            factors = primefactors(n)\n",
    "            n = n // factors[0] if factors else n\n",
    "    return len(seq), None  # No cycle found\n",
    "\n",
    "# Generate some very large primes for products\n",
    "large_primes = list(primerange(10**8, 10**8+10000))[:3] + \\\n",
    "               list(primerange(10**9, 10**9+10000))[:3] + \\\n",
    "               list(primerange(10**10, 10**10+10000))[:2]\n",
    "\n",
    "test_numbers = [\n",
    "    10**15 + 1,\n",
    "    10**16 + 3,\n",
    "    10**17 + 19,\n",
    "    10**18 + 39,\n",
    "    large_primes[0] * large_primes[1] * large_primes[2],\n",
    "    large_primes[3] * large_primes[4] * large_primes[5],\n",
    "    large_primes[6] * large_primes[7],\n",
    "    large_primes[0] * large_primes[3] * large_primes[6],\n",
    "    9999999967 * 9999999967 * 9999999967,  # cube of a large prime\n",
    "    123456789123456789123456789,           # large palindromic-like\n",
    "]\n",
    "\n",
    "step_threshold = 50  # Flag anything that takes more than this many steps\n",
    "\n",
    "summary = []\n",
    "print(f\"{'Start Value':>25} | {'Steps':>6} | {'Cycle Detected':>14} | {'Cycle (rotation)':>40}\")\n",
    "print(\"-\"*95)\n",
    "for n in test_numbers:\n",
    "    t0 = time.time()\n",
    "    steps, cycle = prime_vortex(n)\n",
    "    elapsed = time.time() - t0\n",
    "    cycle_str = str(cycle) if cycle else \"None\"\n",
    "    flagged = \" <-- Outlier\" if steps > step_threshold else \"\"\n",
    "    print(f\"{n:>25} | {steps:>6} | {str(bool(cycle)):>14} | {cycle_str[:38]}{flagged}\")\n",
    "    summary.append((n, steps, bool(cycle), cycle, flagged, elapsed))\n",
    "\n",
    "# Print any outliers separately for your paper\n",
    "print(\"\\nOutliers (steps > {}):\".format(step_threshold))\n",
    "for n, steps, detected, cycle, flagged, elapsed in summary:\n",
    "    if steps > step_threshold:\n",
    "        print(f\"Start: {n}\\n  Steps: {steps}\\n  Cycle: {cycle}\\n  Time: {elapsed:.2f}s\\n\")\n",
    "\n",
    "# Optional: Save results to a file for your paper\n",
    "with open(\"prime_vortex_large_test_results.txt\", \"w\") as f:\n",
    "    f.write(f\"{'Start Value':>25} | {'Steps':>6} | {'Cycle Detected':>14} | {'Cycle (rotation)':>40}\\n\")\n",
    "    f.write(\"-\"*95 + \"\\n\")\n",
    "    for n, steps, detected, cycle, flagged, elapsed in summary:\n",
    "        f.write(f\"{n:>25} | {steps:>6} | {str(detected):>14} | {str(cycle)[:38]}{flagged}\\n\")\n",
    "    f.write(\"\\nOutliers (steps > {}):\\n\".format(step_threshold))\n",
    "    for n, steps, detected, cycle, flagged, elapsed in summary:\n",
    "        if steps > step_threshold:\n",
    "            f.write(f\"Start: {n}\\n  Steps: {steps}\\n  Cycle: {cycle}\\n  Time: {elapsed:.2f}s\\n\")\n",
    "\n",
    "print(\"Done. Results saved to 'prime_vortex_large_test_results.txt'.\")\n"
   ]
  },
  {
   "cell_type": "code",
   "execution_count": 3,
   "id": "8cef94",
   "metadata": {
    "collapsed": false
   },
   "outputs": [
    {
     "name": "stdout",
     "output_type": "stream",
     "text": [
      "\n",
      "Testing start value: 1,000,000,000,000,123\n",
      "Cycle detected (length 9): [11, 35, 7, 25, 5, 17, 53, 165, 55]\n",
      "Total steps to cycle: 27\n",
      "\n",
      "Testing start value: 1,000,000,000,000,000,321\n",
      "Cycle detected (length 9): [7, 25, 5, 17, 53, 165, 55, 11, 35]\n",
      "Total steps to cycle: 31\n",
      "\n",
      "Testing start value: 99,999,999,280,000,001,287\n",
      "Cycle detected (length 9): [7, 25, 5, 17, 53, 165, 55, 11, 35]\n",
      "Total steps to cycle: 31\n",
      "\n",
      "Testing start value: 999,999,987,100,000,053,909,999,926,641\n"
     ]
    },
    {
     "name": "stdout",
     "output_type": "stream",
     "text": [
      "Cycle detected (length 9): [7, 25, 5, 17, 53, 165, 55, 11, 35]\n",
      "Total steps to cycle: 32\n",
      "\n",
      "Testing start value: 99,728,304,260,896,594,853\n",
      "Cycle detected (length 9): [7, 25, 5, 17, 53, 165, 55, 11, 35]\n",
      "Total steps to cycle: 30\n"
     ]
    }
   ],
   "source": [
    "from sympy import isprime, nextprime, primefactors\n",
    "\n",
    "def prime_vortex(n, max_steps=100000):\n",
    "    seen = {}\n",
    "    seq = []\n",
    "    for i in range(max_steps):\n",
    "        if n in seen:\n",
    "            cycle_start = seen[n]\n",
    "            cycle = seq[cycle_start:]\n",
    "            return seq, cycle\n",
    "        seen[n] = i\n",
    "        seq.append(n)\n",
    "        if isprime(n):\n",
    "            n = 2 * n + nextprime(n)\n",
    "        else:\n",
    "            factors = primefactors(n)\n",
    "            n = n // factors[0] if factors else n\n",
    "    return seq, None\n",
    "\n",
    "def format_large(n):\n",
    "    return f\"{n:,}\"\n",
    "\n",
    "# Prepare very large numbers and products of large primes\n",
    "large_primes = [9999999967, 9999999961, 9999999943]\n",
    "test_numbers = [\n",
    "    10**15 + 123,  # Large number\n",
    "    10**18 + 321,  # Even larger number\n",
    "    large_primes[0] * large_primes[1],  # Product of two large primes\n",
    "    large_primes[0] * large_primes[1] * large_primes[2],  # Product of three large primes\n",
    "    9999999967 * 999983 * 9973,  # Mix of large and medium primes\n",
    "]\n",
    "\n",
    "outlier_threshold = 50  # Steps to cycle above this are flagged as outliers\n",
    "\n",
    "for n in test_numbers:\n",
    "    print(f\"\\nTesting start value: {format_large(n)}\")\n",
    "    seq, cycle = prime_vortex(n)\n",
    "    if cycle:\n",
    "        steps = len(seq)\n",
    "        print(f\"Cycle detected (length {len(cycle)}): {cycle}\")\n",
    "        print(f\"Total steps to cycle: {steps}\")\n",
    "        if steps > outlier_threshold:\n",
    "            print(\"** Outlier: unusually many steps to cycle! **\")\n",
    "            print(\"First 10 steps:\", seq[:10])\n",
    "            print(\"Last 10 steps before cycle:\", seq[-10:])\n",
    "    else:\n",
    "        print(\"No cycle detected within step limit.\")\n",
    "        print(\"Last 10 values:\", seq[-10:])\n"
   ]
  },
  {
   "cell_type": "code",
   "execution_count": 7,
   "id": "a647ea",
   "metadata": {
    "collapsed": false
   },
   "outputs": [
    {
     "name": "stdout",
     "output_type": "stream",
     "text": [
      "\n",
      "1. Rigorous Proof/Disproof: Prime-Growth Step Exploration\n",
      "=== Prime-Growth Step Exploration ===\n",
      "Chain broken at step 1: 3000039 is composite.\n",
      "\n",
      "2. Cycle Classification (N=1000)\n",
      "=== Cycle Classification ===\n",
      "Number of distinct cycles found: 1\n",
      "Cycle: (5, 7, 11, 17, 25, 35, 53, 55, 165)\n",
      "\n",
      "3. Generalizations (3n + nextprime(n), N=500)\n",
      "=== Generalization: 3n + nextprime(n) for primes ===\n",
      "=== Cycle Classification ===\n",
      "Number of distinct cycles found: 1\n",
      "Cycle: (2, 3, 4, 7, 8, 9, 14, 16, 32)\n",
      "\n",
      "4. Statistical Properties (N=1000)\n",
      "=== Statistical Properties: Steps to Cycle ===\n"
     ]
    },
    {
     "name": "stderr",
     "output_type": "stream",
     "text": [
      "/tmp/ipykernel_470/1824458069.py:100: DeprecationWarning: sage.stats.basic_stats.mean is deprecated; use numpy.mean or numpy.nanmean instead\n",
      "See https://github.com/sagemath/sage/issues/29662 for details.\n",
      "  print(f\"Average steps to cycle: {float(mean(steps)):.2f}\")\n"
     ]
    },
    {
     "name": "stdout",
     "output_type": "stream",
     "text": [
      "Average steps to cycle: 6.20\n",
      "Max steps to cycle: 25\n",
      "Min steps to cycle: 0\n"
     ]
    },
    {
     "data": {
      "image/png": "[encoded data removed]",
      "text/plain": [
       "Graphics object consisting of 1 graphics primitive"
      ]
     },
     "execution_count": 7,
     "metadata": {
     },
     "output_type": "execute_result"
    },
    {
     "name": "stdout",
     "output_type": "stream",
     "text": [
      "\n",
      "5. Compare to Collatz (n0=27)\n",
      "=== Compare to Collatz Conjecture ===\n",
      "Start: 27 | Prime Vortex steps: 12 | Collatz steps: 112\n"
     ]
    }
   ],
   "source": [
    "# SageMath Script: Prime Vortex Sequence - Automatic Research Toolkit (Robust Version)\n",
    "\n",
    "def nextprime_sage(n):\n",
    "    n = Integer(n)\n",
    "    return next_prime(n)\n",
    "\n",
    "def spf(n):\n",
    "    n = Integer(n)\n",
    "    if n == 1:\n",
    "        return 1  # Avoids empty list error; will keep n=1 fixed\n",
    "    return n.prime_factors()[0]\n",
    "\n",
    "def is_prime_sage(n):\n",
    "    n = Integer(n)\n",
    "    return is_prime(n)\n",
    "\n",
    "def prime_vortex_step(n, a=2, rule_variant=None):\n",
    "    n = Integer(n)\n",
    "    if n == 1:\n",
    "        return 1  # Stay at 1 if reached\n",
    "    if rule_variant is not None:\n",
    "        return rule_variant(n)\n",
    "    if is_prime_sage(n):\n",
    "        return a*n + nextprime_sage(n)\n",
    "    else:\n",
    "        return n // spf(n)\n",
    "\n",
    "def prime_vortex_sequence(n0, max_steps=1000, a=2, rule_variant=None):\n",
    "    seen = {}\n",
    "    seq = []\n",
    "    n = Integer(n0)\n",
    "    for i in range(max_steps):\n",
    "        if n in seen:\n",
    "            cycle_start = seen[n]\n",
    "            cycle = seq[cycle_start:]\n",
    "            return seq, cycle\n",
    "        if n == 1:\n",
    "            seq.append(n)\n",
    "            return seq, [1]\n",
    "        seen[n] = i\n",
    "        seq.append(n)\n",
    "        n = prime_vortex_step(n, a=a, rule_variant=rule_variant)\n",
    "    return seq, None\n",
    "\n",
    "# --- 1. Rigorous Proof/Disproof: Prime-Growth Step Exploration ---\n",
    "\n",
    "def test_prime_growth_chain(p0, max_steps=1000, a=2):\n",
    "    print(\"=== Prime-Growth Step Exploration ===\")\n",
    "    n = Integer(p0)\n",
    "    for i in range(max_steps):\n",
    "        if not is_prime_sage(n):\n",
    "            print(f\"Chain broken at step {i}: {n} is composite.\")\n",
    "            return False\n",
    "        n_next = a*n + nextprime_sage(n)\n",
    "        if n_next <= n:\n",
    "            print(f\"Chain stopped growing at step {i}: {n_next} <= {n}.\")\n",
    "            return False\n",
    "        n = n_next\n",
    "    print(f\"Chain of primes persisted for {max_steps} steps (very unlikely).\")\n",
    "    return True\n",
    "\n",
    "# --- 2. Cycle Classification ---\n",
    "\n",
    "def search_for_cycles(N=1000, a=2, rule_variant=None):\n",
    "    print(\"=== Cycle Classification ===\")\n",
    "    found_cycles = set()\n",
    "    for n in range(1, N+1):\n",
    "        seq, cycle = prime_vortex_sequence(n, a=a, rule_variant=rule_variant)\n",
    "        # Only consider nontrivial cycles (not just [1])\n",
    "        if cycle and set(cycle) != set([1]):\n",
    "            found_cycles.add(tuple(sorted(cycle)))\n",
    "    print(f\"Number of distinct cycles found: {len(found_cycles)}\")\n",
    "    for cyc in found_cycles:\n",
    "        print(\"Cycle:\", cyc)\n",
    "\n",
    "# --- 3. Generalizations ---\n",
    "\n",
    "def custom_rule(n):\n",
    "    n = Integer(n)\n",
    "    # Example: Replace 2n with 3n in the prime step\n",
    "    if is_prime_sage(n):\n",
    "        return 3*n + nextprime_sage(n)\n",
    "    else:\n",
    "        return n // spf(n)\n",
    "\n",
    "def search_for_cycles_generalized(N=500):\n",
    "    print(\"=== Generalization: 3n + nextprime(n) for primes ===\")\n",
    "    search_for_cycles(N=N, rule_variant=custom_rule)\n",
    "\n",
    "# --- 4. Statistical Properties ---\n",
    "\n",
    "def stats_steps_to_cycle(N=1000, a=2, rule_variant=None):\n",
    "    print(\"=== Statistical Properties: Steps to Cycle ===\")\n",
    "    steps = []\n",
    "    for n in range(1, N+1):\n",
    "        seq, cycle = prime_vortex_sequence(n, a=a, rule_variant=rule_variant)\n",
    "        if cycle and set(cycle) != set([1]):\n",
    "            steps.append(len(seq) - len(cycle))\n",
    "    if steps:\n",
    "        print(f\"Average steps to cycle: {float(mean(steps)):.2f}\")\n",
    "        print(f\"Max steps to cycle: {max(steps)}\")\n",
    "        print(f\"Min steps to cycle: {min(steps)}\")\n",
    "        histogram(steps, bins=30, title=\"Steps to Cycle Distribution\").show()\n",
    "    else:\n",
    "        print(\"No nontrivial cycles detected in the tested range.\")\n",
    "\n",
    "# --- 5. Connections to Other Problems ---\n",
    "\n",
    "def collatz_step(n):\n",
    "    n = Integer(n)\n",
    "    if n % 2 == 0:\n",
    "        return n // 2\n",
    "    else:\n",
    "        return 3*n + 1\n",
    "\n",
    "def compare_to_collatz(n0, max_steps=1000):\n",
    "    print(\"=== Compare to Collatz Conjecture ===\")\n",
    "    seq_vortex, _ = prime_vortex_sequence(n0, max_steps=max_steps)\n",
    "    n = Integer(n0)\n",
    "    collatz_seq = []\n",
    "    for i in range(max_steps):\n",
    "        collatz_seq.append(n)\n",
    "        if n == 1:\n",
    "            break\n",
    "        n = collatz_step(n)\n",
    "    print(f\"Start: {n0} | Prime Vortex steps: {len(seq_vortex)} | Collatz steps: {len(collatz_seq)}\")\n",
    "\n",
    "# --- Automatic Calls for All Analyses ---\n",
    "\n",
    "print(\"\\n1. Rigorous Proof/Disproof: Prime-Growth Step Exploration\")\n",
    "test_prime_growth_chain(next_prime(10^6), max_steps=100)\n",
    "\n",
    "print(\"\\n2. Cycle Classification (N=1000)\")\n",
    "search_for_cycles(N=1000)\n",
    "\n",
    "print(\"\\n3. Generalizations (3n + nextprime(n), N=500)\")\n",
    "search_for_cycles_generalized(N=500)\n",
    "\n",
    "print(\"\\n4. Statistical Properties (N=1000)\")\n",
    "stats_steps_to_cycle(N=1000)\n",
    "\n",
    "print(\"\\n5. Compare to Collatz (n0=27)\")\n",
    "compare_to_collatz(27)"
   ]
  },
  {
   "cell_type": "code",
   "execution_count": 1,
   "id": "d8667d",
   "metadata": {
    "collapsed": false
   },
   "outputs": [
    {
     "name": "stdout",
     "output_type": "stream",
     "text": [
      "\n",
      "=== Cycle Classification for a = 2, N = 2000 ===\n"
     ]
    },
    {
     "data": {
      "application/vnd.jupyter.widget-view+json": {
       "model_id": "43fd467d0df840889f3a2b1188aaaa4c",
       "version_major": 2,
       "version_minor": 0
      },
      "text/plain": [
       "Searching cycles (a=2, N=2000):   0%|          | 0/2000 [00:00<?, ?it/s]"
      ]
     },
     "execution_count": 1,
     "metadata": {
     },
     "output_type": "execute_result"
    },
    {
     "name": "stdout",
     "output_type": "stream",
     "text": [
      "Number of distinct cycles found for a = 2, N = 2000: 1\n",
      "Cycle: (5, 7, 11, 17, 25, 35, 53, 55, 165)\n",
      "\n",
      "=== Cycle Classification for a = 3, N = 2000 ===\n"
     ]
    },
    {
     "data": {
      "application/vnd.jupyter.widget-view+json": {
       "model_id": "a60a57493ad040678bec6d90f5ff9a22",
       "version_major": 2,
       "version_minor": 0
      },
      "text/plain": [
       "Searching cycles (a=3, N=2000):   0%|          | 0/2000 [00:00<?, ?it/s]"
      ]
     },
     "execution_count": 1,
     "metadata": {
     },
     "output_type": "execute_result"
    },
    {
     "name": "stdout",
     "output_type": "stream",
     "text": [
      "Number of distinct cycles found for a = 3, N = 2000: 1\n",
      "Cycle: (2, 3, 4, 7, 8, 9, 14, 16, 32)\n",
      "\n",
      "=== Cycle Classification for a = 4, N = 2000 ===\n"
     ]
    },
    {
     "data": {
      "application/vnd.jupyter.widget-view+json": {
       "model_id": "16a884f5e8394417b7bf7dc5cf5330d2",
       "version_major": 2,
       "version_minor": 0
      },
      "text/plain": [
       "Searching cycles (a=4, N=2000):   0%|          | 0/2000 [00:00<?, ?it/s]"
      ]
     },
     "execution_count": 1,
     "metadata": {
     },
     "output_type": "execute_result"
    },
    {
     "name": "stdout",
     "output_type": "stream",
     "text": [
      "Number of distinct cycles found for a = 4, N = 2000: 1\n",
      "Cycle: (11, 19, 33, 57, 99)\n",
      "\n",
      "=== Cycle Classification for a = 5, N = 2000 ===\n"
     ]
    },
    {
     "data": {
      "application/vnd.jupyter.widget-view+json": {
       "model_id": "81be068e60d244a58ea80c0c3a894a56",
       "version_major": 2,
       "version_minor": 0
      },
      "text/plain": [
       "Searching cycles (a=5, N=2000):   0%|          | 0/2000 [00:00<?, ?it/s]"
      ]
     },
     "execution_count": 1,
     "metadata": {
     },
     "output_type": "execute_result"
    },
    {
     "name": "stdout",
     "output_type": "stream",
     "text": [
      "Number of distinct cycles found for a = 5, N = 2000: 1\n",
      "Cycle: (2, 3, 4, 5, 6, 8, 10, 12, 13, 16, 20, 24, 31, 32, 41, 48, 62, 82, 96, 124, 192, 248)\n",
      "\n",
      "=== Cycle Classification for a = 6, N = 2000 ===\n"
     ]
    },
    {
     "data": {
      "application/vnd.jupyter.widget-view+json": {
       "model_id": "4ea1fac2bfa64effac366bf8a7d14442",
       "version_major": 2,
       "version_minor": 0
      },
      "text/plain": [
       "Searching cycles (a=6, N=2000):   0%|          | 0/2000 [00:00<?, ?it/s]"
      ]
     },
     "execution_count": 1,
     "metadata": {
     },
     "output_type": "execute_result"
    },
    {
     "name": "stdout",
     "output_type": "stream",
     "text": [
      "Number of distinct cycles found for a = 6, N = 2000: 4\n",
      "Cycle: (19, 31, 137, 181, 223, 257, 313, 361, 439, 961, 1277, 1565, 1805, 2195, 3077, 7967, 8941, 62597, 87637, 438185)\n",
      "Cycle: (11, 17, 29, 41, 71, 79, 121, 205, 269, 289, 377, 499, 557, 781, 1885, 3497, 3905)\n",
      "Cycle: (83, 139, 587, 823, 983, 1153, 4115, 5143, 5765, 6889, 8081, 56573)\n",
      "Cycle: (1423, 1993, 2791, 9965, 13955, 19543, 136811, 957679)\n",
      "\n",
      "=== Cycle Classification for 2n + 2*nextprime(n) (primes), N = 1000 ===\n"
     ]
    },
    {
     "data": {
      "application/vnd.jupyter.widget-view+json": {
       "model_id": "0a7b0c6cb1aa4d22beefc9574ad323db",
       "version_major": 2,
       "version_minor": 0
      },
      "text/plain": [
       "Searching cycles (a=2, N=1000):   0%|          | 0/1000 [00:00<?, ?it/s]"
      ]
     },
     "execution_count": 1,
     "metadata": {
     },
     "output_type": "execute_result"
    },
    {
     "name": "stdout",
     "output_type": "stream",
     "text": [
      "Number of distinct cycles found for a = 2, N = 1000: 1\n",
      "Cycle: (2, 3, 4, 5, 6, 8, 10, 12, 16, 24)\n",
      "\n",
      "=== Cycle Classification for n^2 + nextprime(n) (primes), N = 100 ===\n"
     ]
    },
    {
     "data": {
      "application/vnd.jupyter.widget-view+json": {
       "model_id": "c503121210a04c6c9ea7bdc8e13358c4",
       "version_major": 2,
       "version_minor": 0
      },
      "text/plain": [
       "Searching cycles (a=2, N=100):   0%|          | 0/100 [00:00<?, ?it/s]"
      ]
     },
     "execution_count": 1,
     "metadata": {
     },
     "output_type": "execute_result"
    }
   ],
   "source": [
    "from sage.all import Integer, next_prime, is_prime\n",
    "import pickle\n",
    "from tqdm.notebook import tqdm  # Or from tqdm import tqdm if not using Jupyter\n",
    "import multiprocessing\n",
    "\n",
    "def nextprime_sage(n):\n",
    "    n = Integer(n)\n",
    "    return next_prime(n)\n",
    "\n",
    "def spf(n):\n",
    "    n = Integer(n)\n",
    "    if n == 1:\n",
    "        return 1\n",
    "    return n.prime_factors()[0]\n",
    "\n",
    "def is_prime_sage(n):\n",
    "    n = Integer(n)\n",
    "    return is_prime(n)\n",
    "\n",
    "def prime_vortex_step(n, a=2, rule_variant=None):\n",
    "    n = Integer(n)\n",
    "    if n == 1:\n",
    "        return 1\n",
    "    if rule_variant is not None:\n",
    "        return rule_variant(n)\n",
    "    if is_prime_sage(n):\n",
    "        return a*n + nextprime_sage(n)\n",
    "    else:\n",
    "        return n // spf(n)\n",
    "\n",
    "def prime_vortex_sequence(n0, max_steps=1000, a=2, rule_variant=None):\n",
    "    seen = {}\n",
    "    seq = []\n",
    "    n = Integer(n0)\n",
    "    for i in range(max_steps):\n",
    "        if n in seen:\n",
    "            cycle_start = seen[n]\n",
    "            cycle = seq[cycle_start:]\n",
    "            return seq, cycle\n",
    "        if n == 1:\n",
    "            seq.append(n)\n",
    "            return seq, [1]\n",
    "        seen[n] = i\n",
    "        seq.append(n)\n",
    "        n = prime_vortex_step(n, a=a, rule_variant=rule_variant)\n",
    "    return seq, None\n",
    "\n",
    "def search_for_cycles(N=2000, a=2, rule_variant=None, print_cycles=True, savefile=None, parallel=False):\n",
    "    found_cycles = set()\n",
    "    all_cycles = []\n",
    "    results = []\n",
    "    # Progress bar setup\n",
    "    iterator = tqdm(range(1, N+1), desc=f\"Searching cycles (a={a}, N={N})\")\n",
    "    \n",
    "    def process_one(n):\n",
    "        seq, cycle = prime_vortex_sequence(n, a=a, rule_variant=rule_variant)\n",
    "        if cycle and set(cycle) != set([1]):\n",
    "            cyc = tuple(sorted(cycle))\n",
    "            return cyc\n",
    "        return None\n",
    "\n",
    "    if parallel:\n",
    "        # Use multiprocessing to speed up\n",
    "        with multiprocessing.Pool() as pool:\n",
    "            for cyc in pool.imap(process_one, range(1, N+1)):\n",
    "                if cyc and cyc not in found_cycles:\n",
    "                    found_cycles.add(cyc)\n",
    "                    all_cycles.append(cyc)\n",
    "    else:\n",
    "        for n in iterator:\n",
    "            cyc = process_one(n)\n",
    "            if cyc and cyc not in found_cycles:\n",
    "                found_cycles.add(cyc)\n",
    "                all_cycles.append(cyc)\n",
    "    if print_cycles:\n",
    "        print(f\"Number of distinct cycles found for a = {a}, N = {N}: {len(found_cycles)}\")\n",
    "        for cyc in all_cycles:\n",
    "            print(\"Cycle:\", cyc)\n",
    "    if savefile:\n",
    "        with open(savefile, 'wb') as f:\n",
    "            pickle.dump(all_cycles, f)\n",
    "    return all_cycles\n",
    "\n",
    "# --- Generalizations: Custom Prime Step Functions ---\n",
    "\n",
    "def custom_rule_double_nextprime(n):\n",
    "    n = Integer(n)\n",
    "    if is_prime_sage(n):\n",
    "        return 2*n + 2*nextprime_sage(n)\n",
    "    else:\n",
    "        return n // spf(n)\n",
    "\n",
    "def custom_rule_square(n):\n",
    "    n = Integer(n)\n",
    "    if is_prime_sage(n):\n",
    "        return n^2 + nextprime_sage(n)\n",
    "    else:\n",
    "        return n // spf(n)\n",
    "\n",
    "# --- Table Output for Paper ---\n",
    "\n",
    "def print_cycle_table(cycle_dict):\n",
    "    print(\"| Rule | N | # Cycles | Example Cycle(s) |\")\n",
    "    print(\"|------|----|----------|------------------|\")\n",
    "    for rule, (N, cycles) in cycle_dict.items():\n",
    "        ex = \", \".join(str(c[:8]) + (\"...\" if len(c) > 8 else \"\") for c in cycles[:2])\n",
    "        print(f\"| {rule} | {N} | {len(cycles)} | {ex} |\")\n",
    "\n",
    "# --- Main Exploration ---\n",
    "\n",
    "N = 2000  # You can increase this for more thorough exploration\n",
    "\n",
    "cycle_dict = {}\n",
    "\n",
    "# Explore a = 2, 3, 4, 5, 6\n",
    "for a in range(2, 7):\n",
    "    print(f\"\\n=== Cycle Classification for a = {a}, N = {N} ===\")\n",
    "    cycles = search_for_cycles(N=N, a=a, savefile=f\"cycles_a{a}_N{N}.pkl\", print_cycles=True)\n",
    "    cycle_dict[f\"{a}n+nextprime(n)\"] = (N, cycles)\n",
    "\n",
    "# Custom rules\n",
    "print(\"\\n=== Cycle Classification for 2n + 2*nextprime(n) (primes), N = 1000 ===\")\n",
    "cycles = search_for_cycles(N=1000, rule_variant=custom_rule_double_nextprime, savefile=\"cycles_2n+2nextprime_N1000.pkl\")\n",
    "cycle_dict[\"2n+2nextprime(n)\"] = (1000, cycles)\n",
    "\n",
    "print(\"\\n=== Cycle Classification for n^2 + nextprime(n) (primes), N = 100 ===\")\n",
    "cycles = search_for_cycles(N=100, rule_variant=custom_rule_square, savefile=\"cycles_n2+nextprime_N100.pkl\")\n",
    "cycle_dict[\"n^2+nextprime(n)\"] = (100, cycles)\n",
    "\n",
    "# Large N example (no cycle printing for speed)\n",
    "print(\"\\n=== Cycle Classification for a = 2, N = 10000 (Larger N) ===\")\n",
    "cycles = search_for_cycles(N=10000, a=2, print_cycles=False, savefile=\"cycles_a2_N10000.pkl\")\n",
    "cycle_dict[\"2n+nextprime(n), large N\"] = (10000, cycles)\n",
    "\n",
    "# Print summary table\n",
    "print(\"\\n=== Summary Table for Paper ===\")\n",
    "print_cycle_table(cycle_dict)\n"
   ]
  },
  {
   "cell_type": "code",
   "execution_count": 3,
   "id": "cffd3c",
   "metadata": {
    "collapsed": false
   },
   "outputs": [
    {
     "name": "stdout",
     "output_type": "stream",
     "text": [
      "\n",
      "=== Cycle Classification for a = 7, N = 1000 ===\n"
     ]
    },
    {
     "data": {
      "application/vnd.jupyter.widget-view+json": {
       "model_id": "83e6735f884e418b96f5aabe5c73d0ef",
       "version_major": 2,
       "version_minor": 0
      },
      "text/plain": [
       "Searching cycles (a=7, N=1000):   0%|          | 0/1000 [00:00<?, ?it/s]"
      ]
     },
     "execution_count": 3,
     "metadata": {
     },
     "output_type": "execute_result"
    },
    {
     "name": "stdout",
     "output_type": "stream",
     "text": [
      "Number of distinct cycles for a=7: 2\n",
      "Cycle lengths: [7, 7]\n",
      "\n",
      "=== Cycle Classification for a = 8, N = 1000 ===\n"
     ]
    },
    {
     "data": {
      "application/vnd.jupyter.widget-view+json": {
       "model_id": "9c511c8da86242b6af681289a8b39fba",
       "version_major": 2,
       "version_minor": 0
      },
      "text/plain": [
       "Searching cycles (a=8, N=1000):   0%|          | 0/1000 [00:00<?, ?it/s]"
      ]
     },
     "execution_count": 3,
     "metadata": {
     },
     "output_type": "execute_result"
    },
    {
     "name": "stdout",
     "output_type": "stream",
     "text": [
      "Number of distinct cycles for a=8: 1\n",
      "Cycle lengths: [7]\n",
      "\n",
      "=== Cycle Classification for a = 9, N = 1000 ===\n"
     ]
    },
    {
     "data": {
      "application/vnd.jupyter.widget-view+json": {
       "model_id": "fbfbc730d4cc4f359287ee20c4cbdfb8",
       "version_major": 2,
       "version_minor": 0
      },
      "text/plain": [
       "Searching cycles (a=9, N=1000):   0%|          | 0/1000 [00:00<?, ?it/s]"
      ]
     },
     "execution_count": 3,
     "metadata": {
     },
     "output_type": "execute_result"
    },
    {
     "name": "stdout",
     "output_type": "stream",
     "text": [
      "Number of distinct cycles for a=9: 1\n",
      "Cycle lengths: [9]\n",
      "\n",
      "=== Cycle Classification for a = 10, N = 1000 ===\n"
     ]
    },
    {
     "data": {
      "application/vnd.jupyter.widget-view+json": {
       "model_id": "dd35315839194c859096152fdc90fbce",
       "version_major": 2,
       "version_minor": 0
      },
      "text/plain": [
       "Searching cycles (a=10, N=1000):   0%|          | 0/1000 [00:00<?, ?it/s]"
      ]
     },
     "execution_count": 3,
     "metadata": {
     },
     "output_type": "execute_result"
    },
    {
     "name": "stdout",
     "output_type": "stream",
     "text": [
      "Number of distinct cycles for a=10: 2\n",
      "Cycle lengths: [36, 6]\n",
      "\n",
      "=== Cycle Classification for a = 11, N = 1000 ===\n"
     ]
    },
    {
     "data": {
      "application/vnd.jupyter.widget-view+json": {
       "model_id": "b7d977ce3c8643bab1a387cfd8ea7c5c",
       "version_major": 2,
       "version_minor": 0
      },
      "text/plain": [
       "Searching cycles (a=11, N=1000):   0%|          | 0/1000 [00:00<?, ?it/s]"
      ]
     },
     "execution_count": 3,
     "metadata": {
     },
     "output_type": "execute_result"
    },
    {
     "name": "stdout",
     "output_type": "stream",
     "text": [
      "Number of distinct cycles for a=11: 1\n",
      "Cycle lengths: [27]\n",
      "\n",
      "=== Cycle Classification for a = 12, N = 1000 ===\n"
     ]
    },
    {
     "data": {
      "application/vnd.jupyter.widget-view+json": {
       "model_id": "f63b29f689774e5fa82c23c776f1ae88",
       "version_major": 2,
       "version_minor": 0
      },
      "text/plain": [
       "Searching cycles (a=12, N=1000):   0%|          | 0/1000 [00:00<?, ?it/s]"
      ]
     },
     "execution_count": 3,
     "metadata": {
     },
     "output_type": "execute_result"
    },
    {
     "name": "stdout",
     "output_type": "stream",
     "text": [
      "Number of distinct cycles for a=12: 2\n",
      "Cycle lengths: [16, 8]\n",
      "\n",
      "=== Cycle Classification for a = 13, N = 1000 ===\n"
     ]
    },
    {
     "data": {
      "application/vnd.jupyter.widget-view+json": {
       "model_id": "589ff1fe6b3f4d33865be469331eb90b",
       "version_major": 2,
       "version_minor": 0
      },
      "text/plain": [
       "Searching cycles (a=13, N=1000):   0%|          | 0/1000 [00:00<?, ?it/s]"
      ]
     },
     "execution_count": 3,
     "metadata": {
     },
     "output_type": "execute_result"
    },
    {
     "name": "stdout",
     "output_type": "stream",
     "text": [
      "Number of distinct cycles for a=13: 1\n",
      "Cycle lengths: [12]\n",
      "\n",
      "=== Cycle Classification for a = 14, N = 1000 ===\n"
     ]
    },
    {
     "data": {
      "application/vnd.jupyter.widget-view+json": {
       "model_id": "8e78e75c8a4e48ab99014eebb0d9fafa",
       "version_major": 2,
       "version_minor": 0
      },
      "text/plain": [
       "Searching cycles (a=14, N=1000):   0%|          | 0/1000 [00:00<?, ?it/s]"
      ]
     },
     "execution_count": 3,
     "metadata": {
     },
     "output_type": "execute_result"
    },
    {
     "name": "stdout",
     "output_type": "stream",
     "text": [
      "Number of distinct cycles for a=14: 3\n",
      "Cycle lengths: [20, 9, 11]\n",
      "\n",
      "=== Cycle Classification for a = 15, N = 1000 ===\n"
     ]
    },
    {
     "data": {
      "application/vnd.jupyter.widget-view+json": {
       "model_id": "3f75607b36884f44b6efdbca910f81d0",
       "version_major": 2,
       "version_minor": 0
      },
      "text/plain": [
       "Searching cycles (a=15, N=1000):   0%|          | 0/1000 [00:00<?, ?it/s]"
      ]
     },
     "execution_count": 3,
     "metadata": {
     },
     "output_type": "execute_result"
    },
    {
     "name": "stdout",
     "output_type": "stream",
     "text": [
      "Number of distinct cycles for a=15: 2\n",
      "Cycle lengths: [9, 12]\n",
      "\n",
      "=== Cycle Classification for a = 16, N = 1000 ===\n"
     ]
    },
    {
     "data": {
      "application/vnd.jupyter.widget-view+json": {
       "model_id": "25123d97781d4354983b2dad6bd1e203",
       "version_major": 2,
       "version_minor": 0
      },
      "text/plain": [
       "Searching cycles (a=16, N=1000):   0%|          | 0/1000 [00:00<?, ?it/s]"
      ]
     },
     "execution_count": 3,
     "metadata": {
     },
     "output_type": "execute_result"
    },
    {
     "name": "stdout",
     "output_type": "stream",
     "text": [
      "Number of distinct cycles for a=16: 1\n",
      "Cycle lengths: [22]\n",
      "\n",
      "=== Cycle Classification for a = 17, N = 1000 ===\n"
     ]
    },
    {
     "data": {
      "application/vnd.jupyter.widget-view+json": {
       "model_id": "1ad5a707e11d4f30aa8b41133b757ec3",
       "version_major": 2,
       "version_minor": 0
      },
      "text/plain": [
       "Searching cycles (a=17, N=1000):   0%|          | 0/1000 [00:00<?, ?it/s]"
      ]
     },
     "execution_count": 3,
     "metadata": {
     },
     "output_type": "execute_result"
    },
    {
     "name": "stdout",
     "output_type": "stream",
     "text": [
      "Number of distinct cycles for a=17: 1\n",
      "Cycle lengths: [23]\n",
      "\n",
      "=== Cycle Classification for a = 18, N = 1000 ===\n"
     ]
    },
    {
     "data": {
      "application/vnd.jupyter.widget-view+json": {
       "model_id": "771112199b9f4f20a857db43c4dfb9db",
       "version_major": 2,
       "version_minor": 0
      },
      "text/plain": [
       "Searching cycles (a=18, N=1000):   0%|          | 0/1000 [00:00<?, ?it/s]"
      ]
     },
     "execution_count": 3,
     "metadata": {
     },
     "output_type": "execute_result"
    },
    {
     "name": "stdout",
     "output_type": "stream",
     "text": [
      "Number of distinct cycles for a=18: 1\n",
      "Cycle lengths: [48]\n",
      "\n",
      "=== Cycle Classification for a = 19, N = 1000 ===\n"
     ]
    },
    {
     "data": {
      "application/vnd.jupyter.widget-view+json": {
       "model_id": "a03bf995cea94a8981752e210941432a",
       "version_major": 2,
       "version_minor": 0
      },
      "text/plain": [
       "Searching cycles (a=19, N=1000):   0%|          | 0/1000 [00:00<?, ?it/s]"
      ]
     },
     "execution_count": 3,
     "metadata": {
     },
     "output_type": "execute_result"
    },
    {
     "name": "stdout",
     "output_type": "stream",
     "text": [
      "Number of distinct cycles for a=19: 2\n",
      "Cycle lengths: [21, 22]\n",
      "\n",
      "=== Cycle Classification for a = 20, N = 1000 ===\n"
     ]
    },
    {
     "data": {
      "application/vnd.jupyter.widget-view+json": {
       "model_id": "3f6a2dac318142039567cf753487e637",
       "version_major": 2,
       "version_minor": 0
      },
      "text/plain": [
       "Searching cycles (a=20, N=1000):   0%|          | 0/1000 [00:00<?, ?it/s]"
      ]
     },
     "execution_count": 3,
     "metadata": {
     },
     "output_type": "execute_result"
    },
    {
     "name": "stdout",
     "output_type": "stream",
     "text": [
      "Number of distinct cycles for a=20: 4\n",
      "Cycle lengths: [26, 10, 17, 11]\n"
     ]
    }
   ],
   "source": [
    "for a in range(7, 21):\n",
    "    print(f\"\\n=== Cycle Classification for a = {a}, N = 1000 ===\")\n",
    "    cycles = search_for_cycles(N=1000, a=a, print_cycles=False, savefile=f\"cycles_a{a}_N1000.pkl\")\n",
    "    print(f\"Number of distinct cycles for a={a}: {len(cycles)}\")\n",
    "    print(\"Cycle lengths:\", [len(c) for c in cycles])\n"
   ]
  },
  {
   "cell_type": "code",
   "execution_count": 4,
   "id": "3e8386",
   "metadata": {
    "collapsed": false
   },
   "outputs": [
    {
     "name": "stdout",
     "output_type": "stream",
     "text": [
      "\n",
      "=== Cycle Classification for a = 2, N = 1000 ===\n"
     ]
    },
    {
     "data": {
      "application/vnd.jupyter.widget-view+json": {
       "model_id": "f37d92b4c5e04b05a27e5939dbaff358",
       "version_major": 2,
       "version_minor": 0
      },
      "text/plain": [
       "Searching cycles (a=2, N=1000):   0%|          | 0/1000 [00:00<?, ?it/s]"
      ]
     },
     "execution_count": 4,
     "metadata": {
     },
     "output_type": "execute_result"
    },
    {
     "name": "stdout",
     "output_type": "stream",
     "text": [
      "\n",
      "=== Cycle Classification for a = 3, N = 1000 ===\n"
     ]
    },
    {
     "data": {
      "application/vnd.jupyter.widget-view+json": {
       "model_id": "10d3c71eb3e14b6bb2538c75fa4b99f3",
       "version_major": 2,
       "version_minor": 0
      },
      "text/plain": [
       "Searching cycles (a=3, N=1000):   0%|          | 0/1000 [00:00<?, ?it/s]"
      ]
     },
     "execution_count": 4,
     "metadata": {
     },
     "output_type": "execute_result"
    },
    {
     "name": "stdout",
     "output_type": "stream",
     "text": [
      "\n",
      "=== Cycle Classification for a = 4, N = 1000 ===\n"
     ]
    },
    {
     "data": {
      "application/vnd.jupyter.widget-view+json": {
       "model_id": "511d36fd511e44bdae0ec3ab1a8b6c82",
       "version_major": 2,
       "version_minor": 0
      },
      "text/plain": [
       "Searching cycles (a=4, N=1000):   0%|          | 0/1000 [00:00<?, ?it/s]"
      ]
     },
     "execution_count": 4,
     "metadata": {
     },
     "output_type": "execute_result"
    },
    {
     "name": "stdout",
     "output_type": "stream",
     "text": [
      "\n",
      "=== Cycle Classification for a = 5, N = 1000 ===\n"
     ]
    },
    {
     "data": {
      "application/vnd.jupyter.widget-view+json": {
       "model_id": "9af05a643da2421d8bd91002040d881f",
       "version_major": 2,
       "version_minor": 0
      },
      "text/plain": [
       "Searching cycles (a=5, N=1000):   0%|          | 0/1000 [00:00<?, ?it/s]"
      ]
     },
     "execution_count": 4,
     "metadata": {
     },
     "output_type": "execute_result"
    },
    {
     "name": "stdout",
     "output_type": "stream",
     "text": [
      "\n",
      "=== Cycle Classification for a = 6, N = 1000 ===\n"
     ]
    },
    {
     "data": {
      "application/vnd.jupyter.widget-view+json": {
       "model_id": "bf44342424e34dafa4ab8cf733234741",
       "version_major": 2,
       "version_minor": 0
      },
      "text/plain": [
       "Searching cycles (a=6, N=1000):   0%|          | 0/1000 [00:00<?, ?it/s]"
      ]
     },
     "execution_count": 4,
     "metadata": {
     },
     "output_type": "execute_result"
    },
    {
     "name": "stdout",
     "output_type": "stream",
     "text": [
      "\n",
      "=== Cycle Classification for a = 7, N = 1000 ===\n"
     ]
    },
    {
     "data": {
      "application/vnd.jupyter.widget-view+json": {
       "model_id": "01e139daab994a6faa90cf31bb85ca60",
       "version_major": 2,
       "version_minor": 0
      },
      "text/plain": [
       "Searching cycles (a=7, N=1000):   0%|          | 0/1000 [00:00<?, ?it/s]"
      ]
     },
     "execution_count": 4,
     "metadata": {
     },
     "output_type": "execute_result"
    },
    {
     "name": "stdout",
     "output_type": "stream",
     "text": [
      "\n",
      "=== Cycle Classification for a = 8, N = 1000 ===\n"
     ]
    },
    {
     "data": {
      "application/vnd.jupyter.widget-view+json": {
       "model_id": "492026bf71744cb7bfdfe11d4d4aa331",
       "version_major": 2,
       "version_minor": 0
      },
      "text/plain": [
       "Searching cycles (a=8, N=1000):   0%|          | 0/1000 [00:00<?, ?it/s]"
      ]
     },
     "execution_count": 4,
     "metadata": {
     },
     "output_type": "execute_result"
    },
    {
     "name": "stdout",
     "output_type": "stream",
     "text": [
      "\n",
      "=== Cycle Classification for a = 9, N = 1000 ===\n"
     ]
    },
    {
     "data": {
      "application/vnd.jupyter.widget-view+json": {
       "model_id": "6aa5121039104408bb6408f8837209da",
       "version_major": 2,
       "version_minor": 0
      },
      "text/plain": [
       "Searching cycles (a=9, N=1000):   0%|          | 0/1000 [00:00<?, ?it/s]"
      ]
     },
     "execution_count": 4,
     "metadata": {
     },
     "output_type": "execute_result"
    },
    {
     "name": "stdout",
     "output_type": "stream",
     "text": [
      "\n",
      "=== Cycle Classification for a = 10, N = 1000 ===\n"
     ]
    },
    {
     "data": {
      "application/vnd.jupyter.widget-view+json": {
       "model_id": "84a6dd8d321343f5aacf619415ebe311",
       "version_major": 2,
       "version_minor": 0
      },
      "text/plain": [
       "Searching cycles (a=10, N=1000):   0%|          | 0/1000 [00:00<?, ?it/s]"
      ]
     },
     "execution_count": 4,
     "metadata": {
     },
     "output_type": "execute_result"
    },
    {
     "name": "stdout",
     "output_type": "stream",
     "text": [
      "\n",
      "=== Cycle Classification for a = 11, N = 1000 ===\n"
     ]
    },
    {
     "data": {
      "application/vnd.jupyter.widget-view+json": {
       "model_id": "3b9e54af1e754ac18ab227dbc07c2bd2",
       "version_major": 2,
       "version_minor": 0
      },
      "text/plain": [
       "Searching cycles (a=11, N=1000):   0%|          | 0/1000 [00:00<?, ?it/s]"
      ]
     },
     "execution_count": 4,
     "metadata": {
     },
     "output_type": "execute_result"
    },
    {
     "name": "stdout",
     "output_type": "stream",
     "text": [
      "\n",
      "=== Cycle Classification for a = 12, N = 1000 ===\n"
     ]
    },
    {
     "data": {
      "application/vnd.jupyter.widget-view+json": {
       "model_id": "2ad0eb1199874da98d2038e79cceaef0",
       "version_major": 2,
       "version_minor": 0
      },
      "text/plain": [
       "Searching cycles (a=12, N=1000):   0%|          | 0/1000 [00:00<?, ?it/s]"
      ]
     },
     "execution_count": 4,
     "metadata": {
     },
     "output_type": "execute_result"
    },
    {
     "name": "stdout",
     "output_type": "stream",
     "text": [
      "\n",
      "=== Cycle Classification for a = 13, N = 1000 ===\n"
     ]
    },
    {
     "data": {
      "application/vnd.jupyter.widget-view+json": {
       "model_id": "357eb0468edf46bb969ef16a377d5d0d",
       "version_major": 2,
       "version_minor": 0
      },
      "text/plain": [
       "Searching cycles (a=13, N=1000):   0%|          | 0/1000 [00:00<?, ?it/s]"
      ]
     },
     "execution_count": 4,
     "metadata": {
     },
     "output_type": "execute_result"
    },
    {
     "name": "stdout",
     "output_type": "stream",
     "text": [
      "\n",
      "=== Cycle Classification for a = 14, N = 1000 ===\n"
     ]
    },
    {
     "data": {
      "application/vnd.jupyter.widget-view+json": {
       "model_id": "146c7198d0974a0785d07c2db2a1c728",
       "version_major": 2,
       "version_minor": 0
      },
      "text/plain": [
       "Searching cycles (a=14, N=1000):   0%|          | 0/1000 [00:00<?, ?it/s]"
      ]
     },
     "execution_count": 4,
     "metadata": {
     },
     "output_type": "execute_result"
    },
    {
     "name": "stdout",
     "output_type": "stream",
     "text": [
      "\n",
      "=== Cycle Classification for a = 15, N = 1000 ===\n"
     ]
    },
    {
     "data": {
      "application/vnd.jupyter.widget-view+json": {
       "model_id": "5c02c0d286f24533b197b677713cb5c1",
       "version_major": 2,
       "version_minor": 0
      },
      "text/plain": [
       "Searching cycles (a=15, N=1000):   0%|          | 0/1000 [00:00<?, ?it/s]"
      ]
     },
     "execution_count": 4,
     "metadata": {
     },
     "output_type": "execute_result"
    },
    {
     "name": "stdout",
     "output_type": "stream",
     "text": [
      "\n",
      "=== Cycle Classification for a = 16, N = 1000 ===\n"
     ]
    },
    {
     "data": {
      "application/vnd.jupyter.widget-view+json": {
       "model_id": "b53396fa3d404375934cbd7b21e4f3f8",
       "version_major": 2,
       "version_minor": 0
      },
      "text/plain": [
       "Searching cycles (a=16, N=1000):   0%|          | 0/1000 [00:00<?, ?it/s]"
      ]
     },
     "execution_count": 4,
     "metadata": {
     },
     "output_type": "execute_result"
    },
    {
     "name": "stdout",
     "output_type": "stream",
     "text": [
      "\n",
      "=== Cycle Classification for a = 17, N = 1000 ===\n"
     ]
    },
    {
     "data": {
      "application/vnd.jupyter.widget-view+json": {
       "model_id": "87e4985fe6c848d3a510bb0a4766bcee",
       "version_major": 2,
       "version_minor": 0
      },
      "text/plain": [
       "Searching cycles (a=17, N=1000):   0%|          | 0/1000 [00:00<?, ?it/s]"
      ]
     },
     "execution_count": 4,
     "metadata": {
     },
     "output_type": "execute_result"
    },
    {
     "name": "stdout",
     "output_type": "stream",
     "text": [
      "\n",
      "=== Cycle Classification for a = 18, N = 1000 ===\n"
     ]
    },
    {
     "data": {
      "application/vnd.jupyter.widget-view+json": {
       "model_id": "24aacc46af7f4cb5abba1feaa9102ad8",
       "version_major": 2,
       "version_minor": 0
      },
      "text/plain": [
       "Searching cycles (a=18, N=1000):   0%|          | 0/1000 [00:00<?, ?it/s]"
      ]
     },
     "execution_count": 4,
     "metadata": {
     },
     "output_type": "execute_result"
    },
    {
     "name": "stdout",
     "output_type": "stream",
     "text": [
      "\n",
      "=== Cycle Classification for a = 19, N = 1000 ===\n"
     ]
    },
    {
     "data": {
      "application/vnd.jupyter.widget-view+json": {
       "model_id": "2dfde0dad92b41efacfd1a2f85f92050",
       "version_major": 2,
       "version_minor": 0
      },
      "text/plain": [
       "Searching cycles (a=19, N=1000):   0%|          | 0/1000 [00:00<?, ?it/s]"
      ]
     },
     "execution_count": 4,
     "metadata": {
     },
     "output_type": "execute_result"
    },
    {
     "name": "stdout",
     "output_type": "stream",
     "text": [
      "\n",
      "=== Cycle Classification for a = 20, N = 1000 ===\n"
     ]
    },
    {
     "data": {
      "application/vnd.jupyter.widget-view+json": {
       "model_id": "19db19c92ed9470eba9fe0bf15ad1fa3",
       "version_major": 2,
       "version_minor": 0
      },
      "text/plain": [
       "Searching cycles (a=20, N=1000):   0%|          | 0/1000 [00:00<?, ?it/s]"
      ]
     },
     "execution_count": 4,
     "metadata": {
     },
     "output_type": "execute_result"
    },
    {
     "name": "stdout",
     "output_type": "stream",
     "text": [
      "\n",
      "=== Cycle Classification for a = 21, N = 1000 ===\n"
     ]
    },
    {
     "data": {
      "application/vnd.jupyter.widget-view+json": {
       "model_id": "7b1062facd494fec93f8f2c0df4848b4",
       "version_major": 2,
       "version_minor": 0
      },
      "text/plain": [
       "Searching cycles (a=21, N=1000):   0%|          | 0/1000 [00:00<?, ?it/s]"
      ]
     },
     "execution_count": 4,
     "metadata": {
     },
     "output_type": "execute_result"
    },
    {
     "name": "stdout",
     "output_type": "stream",
     "text": [
      "\n",
      "=== Cycle Classification for a = 22, N = 1000 ===\n"
     ]
    },
    {
     "data": {
      "application/vnd.jupyter.widget-view+json": {
       "model_id": "cab4b652006b43dd906a5c7f6a5255e3",
       "version_major": 2,
       "version_minor": 0
      },
      "text/plain": [
       "Searching cycles (a=22, N=1000):   0%|          | 0/1000 [00:00<?, ?it/s]"
      ]
     },
     "execution_count": 4,
     "metadata": {
     },
     "output_type": "execute_result"
    },
    {
     "name": "stdout",
     "output_type": "stream",
     "text": [
      "\n",
      "=== Cycle Classification for a = 23, N = 1000 ===\n"
     ]
    },
    {
     "data": {
      "application/vnd.jupyter.widget-view+json": {
       "model_id": "27bf5a2c6bf34e3dbbea9956acce0977",
       "version_major": 2,
       "version_minor": 0
      },
      "text/plain": [
       "Searching cycles (a=23, N=1000):   0%|          | 0/1000 [00:00<?, ?it/s]"
      ]
     },
     "execution_count": 4,
     "metadata": {
     },
     "output_type": "execute_result"
    },
    {
     "name": "stdout",
     "output_type": "stream",
     "text": [
      "\n",
      "=== Cycle Classification for a = 24, N = 1000 ===\n"
     ]
    },
    {
     "data": {
      "application/vnd.jupyter.widget-view+json": {
       "model_id": "3b95a49fc17142d98533e31765b6228f",
       "version_major": 2,
       "version_minor": 0
      },
      "text/plain": [
       "Searching cycles (a=24, N=1000):   0%|          | 0/1000 [00:00<?, ?it/s]"
      ]
     },
     "execution_count": 4,
     "metadata": {
     },
     "output_type": "execute_result"
    },
    {
     "name": "stdout",
     "output_type": "stream",
     "text": [
      "\n",
      "=== Cycle Classification for a = 25, N = 1000 ===\n"
     ]
    },
    {
     "data": {
      "application/vnd.jupyter.widget-view+json": {
       "model_id": "07efce950b384915b71f8922b3ab9f8b",
       "version_major": 2,
       "version_minor": 0
      },
      "text/plain": [
       "Searching cycles (a=25, N=1000):   0%|          | 0/1000 [00:00<?, ?it/s]"
      ]
     },
     "execution_count": 4,
     "metadata": {
     },
     "output_type": "execute_result"
    },
    {
     "name": "stdout",
     "output_type": "stream",
     "text": [
      "\n",
      "=== Cycle Classification for a = 26, N = 1000 ===\n"
     ]
    },
    {
     "data": {
      "application/vnd.jupyter.widget-view+json": {
       "model_id": "0105db5c75564d08a484ee2316345a87",
       "version_major": 2,
       "version_minor": 0
      },
      "text/plain": [
       "Searching cycles (a=26, N=1000):   0%|          | 0/1000 [00:00<?, ?it/s]"
      ]
     },
     "execution_count": 4,
     "metadata": {
     },
     "output_type": "execute_result"
    },
    {
     "name": "stdout",
     "output_type": "stream",
     "text": [
      "\n",
      "=== Cycle Classification for a = 27, N = 1000 ===\n"
     ]
    },
    {
     "data": {
      "application/vnd.jupyter.widget-view+json": {
       "model_id": "89b32619e02642a68b622e8964a475a0",
       "version_major": 2,
       "version_minor": 0
      },
      "text/plain": [
       "Searching cycles (a=27, N=1000):   0%|          | 0/1000 [00:00<?, ?it/s]"
      ]
     },
     "execution_count": 4,
     "metadata": {
     },
     "output_type": "execute_result"
    },
    {
     "name": "stdout",
     "output_type": "stream",
     "text": [
      "\n",
      "=== Cycle Classification for a = 28, N = 1000 ===\n"
     ]
    },
    {
     "data": {
      "application/vnd.jupyter.widget-view+json": {
       "model_id": "f483d2df1f0d404bb5ae7a47b1de0805",
       "version_major": 2,
       "version_minor": 0
      },
      "text/plain": [
       "Searching cycles (a=28, N=1000):   0%|          | 0/1000 [00:00<?, ?it/s]"
      ]
     },
     "execution_count": 4,
     "metadata": {
     },
     "output_type": "execute_result"
    },
    {
     "name": "stdout",
     "output_type": "stream",
     "text": [
      "\n",
      "=== Cycle Classification for a = 29, N = 1000 ===\n"
     ]
    },
    {
     "data": {
      "application/vnd.jupyter.widget-view+json": {
       "model_id": "f7aa33463435418a994459b448932583",
       "version_major": 2,
       "version_minor": 0
      },
      "text/plain": [
       "Searching cycles (a=29, N=1000):   0%|          | 0/1000 [00:00<?, ?it/s]"
      ]
     },
     "execution_count": 4,
     "metadata": {
     },
     "output_type": "execute_result"
    },
    {
     "name": "stdout",
     "output_type": "stream",
     "text": [
      "\n",
      "=== Cycle Classification for a = 30, N = 1000 ===\n"
     ]
    },
    {
     "data": {
      "application/vnd.jupyter.widget-view+json": {
       "model_id": "d0d23fab283845698f226bcec7942a02",
       "version_major": 2,
       "version_minor": 0
      },
      "text/plain": [
       "Searching cycles (a=30, N=1000):   0%|          | 0/1000 [00:00<?, ?it/s]"
      ]
     },
     "execution_count": 4,
     "metadata": {
     },
     "output_type": "execute_result"
    },
    {
     "name": "stdout",
     "output_type": "stream",
     "text": [
      "\n",
      "=== Summary Table ===\n",
      "| a | N | # Cycles | Max Cycle Length | Example Cycle Lengths |\n",
      "|---|----|----------|------------------|----------------------|\n",
      "| 2 | 1000 | 1 | 9 | 9 |\n",
      "| 3 | 1000 | 1 | 9 | 9 |\n",
      "| 4 | 1000 | 1 | 5 | 5 |\n",
      "| 5 | 1000 | 1 | 22 | 22 |\n",
      "| 6 | 1000 | 3 | 20 | 20, 17, 12 |\n",
      "| 7 | 1000 | 2 | 7 | 7, 7 |\n",
      "| 8 | 1000 | 1 | 7 | 7 |\n",
      "| 9 | 1000 | 1 | 9 | 9 |\n",
      "| 10 | 1000 | 2 | 36 | 36, 6 |\n",
      "| 11 | 1000 | 1 | 27 | 27 |\n",
      "| 12 | 1000 | 2 | 16 | 16, 8 |\n",
      "| 13 | 1000 | 1 | 12 | 12 |\n",
      "| 14 | 1000 | 3 | 20 | 20, 9, 11 |\n",
      "| 15 | 1000 | 2 | 12 | 9, 12 |\n",
      "| 16 | 1000 | 1 | 22 | 22 |\n",
      "| 17 | 1000 | 1 | 23 | 23 |\n",
      "| 18 | 1000 | 1 | 48 | 48 |\n",
      "| 19 | 1000 | 2 | 22 | 21, 22 |\n",
      "| 20 | 1000 | 4 | 26 | 26, 10, 17... |\n",
      "| 21 | 1000 | 1 | 47 | 47 |\n",
      "| 22 | 1000 | 5 | 28 | 28, 24, 13... |\n",
      "| 23 | 1000 | 1 | 79 | 79 |\n",
      "| 24 | 1000 | 3 | 13 | 13, 4, 7 |\n",
      "| 25 | 1000 | 3 | 37 | 37, 16, 13 |\n",
      "| 26 | 1000 | 3 | 28 | 26, 28, 22 |\n",
      "| 27 | 1000 | 2 | 34 | 34, 9 |\n",
      "| 28 | 1000 | 2 | 75 | 75, 9 |\n",
      "| 29 | 1000 | 3 | 69 | 16, 69, 25 |\n",
      "| 30 | 1000 | 3 | 103 | 103, 20, 21 |\n"
     ]
    },
    {
     "data": {
      "image/png": "[encoded data removed]",
      "text/plain": [
       "<Figure size 1000x500 with 1 Axes>"
      ]
     },
     "execution_count": 4,
     "metadata": {
     },
     "output_type": "execute_result"
    },
    {
     "name": "stdout",
     "output_type": "stream",
     "text": [
      "\n",
      "--- Cycle Structure Analysis for a=2 ---\n",
      "Cycle 1: Length=9, Primes=5, Composites=4\n",
      "Residues mod 2: [1, 1, 1, 1, 1, 1, 1, 1, 1]\n",
      "Residues mod 3: [2, 1, 2, 2, 1, 2, 2, 1, 0]\n",
      "Residues mod 5: [0, 2, 1, 2, 0, 0, 3, 0, 0]\n",
      "\n",
      "\n",
      "--- Cycle Structure Analysis for a=6 ---\n",
      "Cycle 1: Length=20, Primes=11, Composites=9\n",
      "Residues mod 2: [1, 1, 1, 1, 1, 1, 1, 1, 1, 1, 1, 1, 1, 1, 1, 1, 1, 1, 1, 1]\n",
      "Residues mod 3: [1, 1, 2, 1, 1, 2, 1, 1, 1, 1, 2, 2, 2, 2, 2, 2, 1, 2, 1, 2]\n",
      "Residues mod 5: [4, 1, 2, 1, 3, 2, 3, 1, 4, 1, 2, 0, 0, 0, 2, 2, 1, 2, 2, 0]\n",
      "\n",
      "Cycle 2: Length=17, Primes=9, Composites=8\n",
      "Residues mod 2: [1, 1, 1, 1, 1, 1, 1, 1, 1, 1, 1, 1, 1, 1, 1, 1, 1]\n",
      "Residues mod 3: [2, 2, 2, 2, 2, 1, 1, 1, 2, 1, 2, 1, 2, 1, 1, 2, 2]\n",
      "Residues mod 5: [1, 2, 4, 1, 1, 4, 1, 0, 4, 4, 2, 4, 2, 1, 0, 2, 0]\n",
      "\n",
      "Cycle 3: Length=12, Primes=7, Composites=5\n",
      "Residues mod 2: [1, 1, 1, 1, 1, 1, 1, 1, 1, 1, 1, 1]\n",
      "Residues mod 3: [2, 1, 2, 1, 2, 1, 2, 1, 2, 1, 2, 2]\n",
      "Residues mod 5: [3, 4, 2, 3, 3, 3, 0, 3, 0, 4, 1, 3]\n",
      "\n",
      "\n",
      "--- Cycle Structure Analysis for a=10 ---\n",
      "Cycle 1: Length=36, Primes=14, Composites=22\n",
      "Residues mod 2: [1, 1, 1, 1, 1, 1, 1, 1, 1, 1, 1, 1, 1, 1, 1, 1, 1, 1, 1, 1, 1, 1, 1, 1, 1, 1, 1, 1, 1, 1, 1, 1, 1, 1, 1, 1]\n",
      "Residues mod 3: [2, 1, 2, 2, 0, 2, 2, 2, 0, 0, 0, 2, 0, 1, 0, 1, 1, 2, 1, 1, 1, 0, 1, 0, 1, 0, 0, 1, 0, 0, 0, 0, 0, 0, 0, 0]\n",
      "Residues mod 5: [4, 1, 1, 3, 2, 2, 1, 2, 1, 1, 3, 2, 3, 4, 4, 1, 2, 4, 3, 3, 3, 3, 1, 2, 3, 4, 4, 3, 4, 3, 1, 2, 4, 2, 4, 2]\n",
      "\n",
      "Cycle 2: Length=6, Primes=2, Composites=4\n",
      "Residues mod 2: [1, 1, 1, 1, 1, 1]\n",
      "Residues mod 3: [0, 1, 0, 0, 2, 0]\n",
      "Residues mod 5: [3, 2, 4, 2, 0, 1]\n",
      "\n",
      "\n",
      "--- Cycle Structure Analysis for a=20 ---\n",
      "Cycle 1: Length=26, Primes=12, Composites=14\n",
      "Residues mod 2: [1, 1, 1, 1, 1, 1, 1, 1, 1, 1, 1, 1, 1, 1, 1, 1, 1, 1, 1, 1, 1, 1, 1, 1, 1, 1]\n",
      "Residues mod 3: [2, 2, 1, 1, 1, 2, 2, 0, 1, 1, 1, 0, 1, 1, 0, 0, 2, 0, 1, 0, 1, 0, 2, 2, 2, 2]\n",
      "Residues mod 5: [2, 3, 4, 2, 3, 4, 2, 4, 2, 3, 1, 1, 1, 2, 3, 3, 1, 4, 4, 3, 1, 2, 3, 3, 1, 4]\n",
      "\n",
      "Cycle 2: Length=10, Primes=3, Composites=7\n",
      "Residues mod 2: [1, 1, 1, 1, 1, 1, 1, 1, 1, 1]\n",
      "Residues mod 3: [1, 1, 0, 1, 0, 0, 1, 0, 0, 0]\n",
      "Residues mod 5: [4, 1, 2, 3, 1, 4, 3, 3, 2, 4]\n",
      "\n",
      "Cycle 3: Length=17, Primes=7, Composites=10\n",
      "Residues mod 2: [1, 1, 1, 1, 1, 1, 1, 1, 1, 1, 1, 1, 1, 1, 1, 1, 1]\n",
      "Residues mod 3: [1, 2, 1, 1, 2, 2, 1, 1, 0, 2, 1, 2, 1, 0, 1, 0, 0]\n",
      "Residues mod 5: [2, 1, 3, 1, 3, 2, 4, 3, 4, 4, 2, 2, 4, 1, 3, 3, 4]\n",
      "\n",
      "Cycle 4: Length=11, Primes=4, Composites=7\n",
      "Residues mod 2: [1, 1, 1, 1, 1, 1, 1, 1, 1, 1, 1]\n",
      "Residues mod 3: [2, 1, 2, 1, 1, 1, 0, 1, 0, 0, 0]\n",
      "Residues mod 5: [3, 2, 3, 3, 3, 1, 4, 1, 4, 3, 4]\n",
      "\n",
      "\n",
      "--- Cycle Structure Analysis for a=30 ---\n",
      "Cycle 1: Length=103, Primes=49, Composites=54\n",
      "Residues mod 2: [1, 1, 1, 1, 1, 1, 1, 1, 1, 1, 1, 1, 1, 1, 1, 1, 1, 1, 1, 1, 1, 1, 1, 1, 1, 1, 1, 1, 1, 1, 1, 1, 1, 1, 1, 1, 1, 1, 1, 1, 1, 1, 1, 1, 1, 1, 1, 1, 1, 1, 1, 1, 1, 1, 1, 1, 1, 1, 1, 1, 1, 1, 1, 1, 1, 1, 1, 1, 1, 1, 1, 1, 1, 1, 1, 1, 1, 1, 1, 1, 1, 1, 1, 1, 1, 1, 1, 1, 1, 1, 1, 1, 1, 1, 1, 1, 1, 1, 1, 1, 1, 1, 1]\n",
      "Residues mod 3: [1, 2, 1, 2, 1, 1, 2, 1, 2, 2, 2, 2, 1, 1, 2, 2, 2, 1, 2, 2, 1, 2, 1, 2, 1, 2, 2, 1, 2, 1, 2, 1, 2, 1, 1, 2, 1, 2, 2, 2, 2, 1, 1, 2, 2, 1, 1, 2, 2, 2, 2, 2, 1, 2, 2, 1, 1, 1, 1, 1, 2, 1, 2, 2, 2, 1, 1, 1, 1, 2, 2, 1, 2, 2, 1, 2, 1, 2, 1, 2, 1, 1, 2, 1, 1, 1, 2, 2, 2, 1, 1, 2, 2, 2, 1, 1, 1, 1, 2, 2, 2, 2, 2]\n",
      "Residues mod 5: [4, 2, 1, 1, 3, 3, 2, 4, 2, 4, 1, 4, 1, 4, 4, 2, 3, 2, 2, 3, 3, 1, 1, 3, 3, 4, 1, 2, 1, 3, 2, 4, 2, 4, 3, 2, 4, 4, 4, 3, 1, 1, 3, 4, 3, 1, 2, 4, 4, 3, 1, 4, 1, 3, 4, 1, 3, 4, 1, 2, 1, 2, 3, 2, 4, 3, 3, 4, 2, 2, 2, 4, 3, 3, 4, 1, 2, 2, 3, 2, 2, 2, 4, 2, 2, 3, 1, 1, 4, 3, 1, 3, 1, 3, 1, 3, 4, 1, 4, 1, 3, 2, 3]\n",
      "\n",
      "Cycle 2: Length=20, Primes=10, Composites=10\n",
      "Residues mod 2: [1, 1, 1, 1, 1, 1, 1, 1, 1, 1, 1, 1, 1, 1, 1, 1, 1, 1, 1, 1]\n",
      "Residues mod 3: [1, 2, 1, 2, 2, 1, 1, 2, 2, 2, 2, 2, 2, 1, 2, 2, 1, 2, 1, 2]\n",
      "Residues mod 5: [3, 1, 4, 2, 1, 3, 1, 3, 4, 3, 2, 4, 3, 4, 3, 2, 3, 4, 4, 4]\n",
      "\n",
      "Cycle 3: Length=21, Primes=11, Composites=10\n",
      "Residues mod 2: [1, 1, 1, 1, 1, 1, 1, 1, 1, 1, 1, 1, 1, 1, 1, 1, 1, 1, 1, 1, 1]\n",
      "Residues mod 3: [2, 1, 2, 2, 2, 1, 1, 2, 2, 2, 2, 2, 1, 1, 1, 2, 1, 1, 2, 2, 1]\n",
      "Residues mod 5: [4, 4, 1, 3, 1, 2, 4, 2, 4, 3, 3, 2, 2, 1, 3, 3, 2, 2, 4, 1, 4]\n",
      "\n"
     ]
    }
   ],
   "source": [
    "from sage.all import Integer, next_prime, is_prime\n",
    "import pickle\n",
    "from tqdm.notebook import tqdm  # Use 'from tqdm import tqdm' if not in Jupyter\n",
    "import matplotlib.pyplot as plt\n",
    "\n",
    "def nextprime_sage(n):\n",
    "    n = Integer(n)\n",
    "    return next_prime(n)\n",
    "\n",
    "def spf(n):\n",
    "    n = Integer(n)\n",
    "    if n == 1:\n",
    "        return 1\n",
    "    return n.prime_factors()[0]\n",
    "\n",
    "def is_prime_sage(n):\n",
    "    n = Integer(n)\n",
    "    return is_prime(n)\n",
    "\n",
    "def prime_vortex_step(n, a=2, rule_variant=None):\n",
    "    n = Integer(n)\n",
    "    if n == 1:\n",
    "        return 1\n",
    "    if rule_variant is not None:\n",
    "        return rule_variant(n)\n",
    "    if is_prime_sage(n):\n",
    "        return a*n + nextprime_sage(n)\n",
    "    else:\n",
    "        return n // spf(n)\n",
    "\n",
    "def prime_vortex_sequence(n0, max_steps=1000, a=2, rule_variant=None):\n",
    "    seen = {}\n",
    "    seq = []\n",
    "    n = Integer(n0)\n",
    "    for i in range(max_steps):\n",
    "        if n in seen:\n",
    "            cycle_start = seen[n]\n",
    "            cycle = seq[cycle_start:]\n",
    "            return seq, cycle\n",
    "        if n == 1:\n",
    "            seq.append(n)\n",
    "            return seq, [1]\n",
    "        seen[n] = i\n",
    "        seq.append(n)\n",
    "        n = prime_vortex_step(n, a=a, rule_variant=rule_variant)\n",
    "    return seq, None\n",
    "\n",
    "def search_for_cycles(N=1000, a=2, rule_variant=None, print_cycles=False, savefile=None):\n",
    "    found_cycles = set()\n",
    "    all_cycles = []\n",
    "    iterator = tqdm(range(1, N+1), desc=f\"Searching cycles (a={a}, N={N})\")\n",
    "    for n in iterator:\n",
    "        seq, cycle = prime_vortex_sequence(n, a=a, rule_variant=rule_variant)\n",
    "        if cycle and set(cycle) != set([1]):\n",
    "            cyc = tuple(sorted(cycle))\n",
    "            if cyc not in found_cycles:\n",
    "                found_cycles.add(cyc)\n",
    "                all_cycles.append(cyc)\n",
    "    if print_cycles:\n",
    "        print(f\"Number of distinct cycles found for a = {a}, N = {N}: {len(found_cycles)}\")\n",
    "        for cyc in all_cycles:\n",
    "            print(\"Cycle:\", cyc)\n",
    "    if savefile:\n",
    "        with open(savefile, 'wb') as f:\n",
    "            pickle.dump(all_cycles, f)\n",
    "    return all_cycles\n",
    "\n",
    "def analyze_cycle_structure(cycles):\n",
    "    analysis = []\n",
    "    for cyc in cycles:\n",
    "        primes = sum(1 for n in cyc if is_prime_sage(n))\n",
    "        composites = len(cyc) - primes\n",
    "        residues_mod_2 = [n % 2 for n in cyc]\n",
    "        residues_mod_3 = [n % 3 for n in cyc]\n",
    "        residues_mod_5 = [n % 5 for n in cyc]\n",
    "        analysis.append({\n",
    "            'length': len(cyc),\n",
    "            'primes': primes,\n",
    "            'composites': composites,\n",
    "            'mod2': residues_mod_2,\n",
    "            'mod3': residues_mod_3,\n",
    "            'mod5': residues_mod_5,\n",
    "            'cycle': cyc\n",
    "        })\n",
    "    return analysis\n",
    "\n",
    "def print_cycle_table(cycle_data):\n",
    "    print(\"| a | N | # Cycles | Max Cycle Length | Example Cycle Lengths |\")\n",
    "    print(\"|---|----|----------|------------------|----------------------|\")\n",
    "    for a, (N, cycles) in cycle_data.items():\n",
    "        lens = [len(c) for c in cycles]\n",
    "        lens_str = \", \".join(str(l) for l in lens[:3]) + (\"...\" if len(lens) > 3 else \"\")\n",
    "        print(f\"| {a} | {N} | {len(cycles)} | {max(lens) if lens else 0} | {lens_str} |\")\n",
    "\n",
    "def plot_cycle_stats(a_values, num_cycles, max_cycle_lengths):\n",
    "    plt.figure(figsize=(10,5))\n",
    "    plt.plot(a_values, num_cycles, marker='o', label='Number of cycles')\n",
    "    plt.plot(a_values, max_cycle_lengths, marker='x', label='Max cycle length', linestyle='--')\n",
    "    plt.xlabel('a')\n",
    "    plt.ylabel('Count')\n",
    "    plt.title('Cycle Complexity vs. Parameter a')\n",
    "    plt.legend()\n",
    "    plt.grid(True)\n",
    "    plt.show()\n",
    "\n",
    "# --- Main Exploration ---\n",
    "\n",
    "N = 1000  # You can increase as resources allow\n",
    "a_min = 2\n",
    "a_max = 30\n",
    "\n",
    "cycle_data = {}\n",
    "a_values = []\n",
    "num_cycles = []\n",
    "max_cycle_lengths = []\n",
    "\n",
    "for a in range(a_min, a_max+1):\n",
    "    print(f\"\\n=== Cycle Classification for a = {a}, N = {N} ===\")\n",
    "    cycles = search_for_cycles(N=N, a=a, print_cycles=False, savefile=f\"cycles_a{a}_N{N}.pkl\")\n",
    "    cycle_data[a] = (N, cycles)\n",
    "    a_values.append(a)\n",
    "    num_cycles.append(len(cycles))\n",
    "    max_cycle_lengths.append(max([len(c) for c in cycles]) if cycles else 0)\n",
    "\n",
    "# Print summary table\n",
    "print(\"\\n=== Summary Table ===\")\n",
    "print_cycle_table(cycle_data)\n",
    "\n",
    "# Plot number of cycles and max cycle length vs. a\n",
    "plot_cycle_stats(a_values, num_cycles, max_cycle_lengths)\n",
    "\n",
    "# --- Analyze structure of cycles for a few interesting cases ---\n",
    "for a in [2, 6, 10, 20, 30]:\n",
    "    if a in cycle_data:\n",
    "        print(f\"\\n--- Cycle Structure Analysis for a={a} ---\")\n",
    "        N, cycles = cycle_data[a]\n",
    "        analysis = analyze_cycle_structure(cycles)\n",
    "        for i, info in enumerate(analysis):\n",
    "            print(f\"Cycle {i+1}: Length={info['length']}, Primes={info['primes']}, Composites={info['composites']}\")\n",
    "            print(f\"Residues mod 2: {info['mod2']}\")\n",
    "            print(f\"Residues mod 3: {info['mod3']}\")\n",
    "            print(f\"Residues mod 5: {info['mod5']}\")\n",
    "            print()\n"
   ]
  },
  {
   "cell_type": "code",
   "execution_count": 1,
   "id": "47bcfc",
   "metadata": {
    "collapsed": false
   },
   "outputs": [
    {
     "name": "stdout",
     "output_type": "stream",
     "text": [
      "Searching for cycles for a=6, N=1000...\n",
      "Number of distinct cycles found: 4\n",
      "Universal cycle (largest): (31, 223, 1565, 313, 2195, 439, 3077, 181, 1277, 8941, 62597, 438185, 87637, 7967, 257, 1805, 361, 19, 137, 961)\n",
      "Cycle 1: (31, 223, 1565, 313, 2195, 439, 3077, 181, 1277, 8941, 62597, 438185, 87637, 7967, 257, 1805, 361, 19, 137, 961) (length 20)\n",
      "Cycle 2: (377, 29, 205, 41, 289, 17, 121, 11, 79, 557, 3905, 781, 71, 499, 3497, 269, 1885) (length 17)\n",
      "Cycle 3: (83, 587, 4115, 823, 5765, 1153, 8081, 56573, 5143, 139, 983, 6889) (length 12)\n",
      "Cycle 4: (1,) (length 1)\n",
      "\n",
      "Trap cycle found: (377, 29, 205, 41, 289, 17, 121, 11, 79, 557, 3905, 781, 71, 499, 3497, 269, 1885)\n",
      "This cycle is disjoint from the universal cycle.\n",
      "Any starting value in this cycle's basin will never reach the universal cycle.\n",
      "Proof complete: universality fails for a = 6\n"
     ]
    }
   ],
   "source": [
    "from sage.all import Integer, next_prime, is_prime\n",
    "\n",
    "def nextprime_sage(n):\n",
    "    n = Integer(n)\n",
    "    return next_prime(n)\n",
    "\n",
    "def spf(n):\n",
    "    n = Integer(n)\n",
    "    if n == 1:\n",
    "        return 1\n",
    "    return n.prime_factors()[0]\n",
    "\n",
    "def is_prime_sage(n):\n",
    "    n = Integer(n)\n",
    "    return is_prime(n)\n",
    "\n",
    "def prime_vortex_step(n, a=2):\n",
    "    n = Integer(n)\n",
    "    if n == 1:\n",
    "        return 1\n",
    "    if is_prime_sage(n):\n",
    "        return a*n + nextprime_sage(n)\n",
    "    else:\n",
    "        return n // spf(n)\n",
    "\n",
    "def find_cycles(N=1000, a=6, max_steps=1000):\n",
    "    # Map from starting value to (cycle tuple, entry index)\n",
    "    visited = {}\n",
    "    cycles = {}\n",
    "    for n0 in range(1, N+1):\n",
    "        n = Integer(n0)\n",
    "        seq = []\n",
    "        seen = {}\n",
    "        for i in range(max_steps):\n",
    "            if n in seen:\n",
    "                # Cycle detected\n",
    "                cycle_start = seen[n]\n",
    "                cycle = tuple(seq[cycle_start:])\n",
    "                cycles[cycle] = cycles.get(cycle, []) + [n0]\n",
    "                break\n",
    "            if n in visited:\n",
    "                # Already known to enter a cycle\n",
    "                break\n",
    "            seen[n] = i\n",
    "            seq.append(n)\n",
    "            n = prime_vortex_step(n, a=a)\n",
    "        for m in seq:\n",
    "            visited[m] = True\n",
    "    return cycles\n",
    "\n",
    "def verify_cycle_closed(cycle, a=6):\n",
    "    # Check that each element maps to another in the cycle\n",
    "    cycle_set = set(cycle)\n",
    "    for n in cycle:\n",
    "        nxt = prime_vortex_step(n, a=a)\n",
    "        if nxt not in cycle_set:\n",
    "            return False\n",
    "    return True\n",
    "\n",
    "def main_proof_script(a=6, N=1000):\n",
    "    print(f\"Searching for cycles for a={a}, N={N}...\")\n",
    "    cycles = find_cycles(N=N, a=a)\n",
    "    print(f\"Number of distinct cycles found: {len(cycles)}\")\n",
    "    # Identify the largest cycle as the \"universal\" one (by length)\n",
    "    sorted_cycles = sorted(cycles.keys(), key=lambda c: -len(c))\n",
    "    universal_cycle = sorted_cycles[0]\n",
    "    print(f\"Universal cycle (largest): {universal_cycle}\")\n",
    "    for i, cyc in enumerate(sorted_cycles):\n",
    "        print(f\"Cycle {i+1}: {cyc} (length {len(cyc)})\")\n",
    "        assert verify_cycle_closed(cyc, a=a), f\"Cycle {cyc} is not closed!\"\n",
    "    # Find a trap cycle (not the universal one)\n",
    "    if len(sorted_cycles) > 1:\n",
    "        trap_cycle = sorted_cycles[1]\n",
    "        print(f\"\\nTrap cycle found: {trap_cycle}\")\n",
    "        print(\"This cycle is disjoint from the universal cycle.\")\n",
    "        print(\"Any starting value in this cycle's basin will never reach the universal cycle.\")\n",
    "        print(\"Proof complete: universality fails for a =\", a)\n",
    "    else:\n",
    "        print(\"No trap cycle found: universality holds (empirically) for this a.\")\n",
    "\n",
    "# Example usage for a=6 (where universality is known to fail by computation)\n",
    "main_proof_script(a=6, N=1000)\n"
   ]
  },
  {
   "cell_type": "code",
   "execution_count": 2,
   "id": "dc3ac4",
   "metadata": {
    "collapsed": false
   },
   "outputs": [
    {
     "name": "stdout",
     "output_type": "stream",
     "text": [
      "\n",
      "--- Proof check for a=2 ---\n",
      "Searching for cycles for a=2, N=1000...\n",
      "Number of distinct cycles found: 2\n",
      "Universal cycle (largest): (7, 25, 5, 17, 53, 165, 55, 11, 35)\n",
      "Cycle 1: (7, 25, 5, 17, 53, 165, 55, 11, 35) (length 9)\n",
      "Cycle 2: (1,) (length 1)\n",
      "\n",
      "Trap cycle found: (1,)\n",
      "This cycle is disjoint from the universal cycle.\n",
      "Any starting value in this cycle's basin will never reach the universal cycle.\n",
      "Proof complete: universality fails for a = 2\n",
      "\n",
      "--- Proof check for a=3 ---\n",
      "Searching for cycles for a=3, N=1000...\n",
      "Number of distinct cycles found: 2\n",
      "Universal cycle (largest): (2, 9, 3, 14, 7, 32, 16, 8, 4)\n",
      "Cycle 1: (2, 9, 3, 14, 7, 32, 16, 8, 4) (length 9)\n",
      "Cycle 2: (1,) (length 1)\n",
      "\n",
      "Trap cycle found: (1,)\n",
      "This cycle is disjoint from the universal cycle.\n",
      "Any starting value in this cycle's basin will never reach the universal cycle.\n",
      "Proof complete: universality fails for a = 3\n",
      "\n",
      "--- Proof check for a=4 ---\n",
      "Searching for cycles for a=4, N=1000...\n",
      "Number of distinct cycles found: 2\n",
      "Universal cycle (largest): (11, 57, 19, 99, 33)\n",
      "Cycle 1: (11, 57, 19, 99, 33) (length 5)\n",
      "Cycle 2: (1,) (length 1)\n",
      "\n",
      "Trap cycle found: (1,)\n",
      "This cycle is disjoint from the universal cycle.\n",
      "Any starting value in this cycle's basin will never reach the universal cycle.\n",
      "Proof complete: universality fails for a = 4\n",
      "\n",
      "--- Proof check for a=5 ---\n",
      "Searching for cycles for a=5, N=1000...\n",
      "Number of distinct cycles found: 2\n",
      "Universal cycle (largest): (2, 13, 82, 41, 248, 124, 62, 31, 192, 96, 48, 24, 12, 6, 3, 20, 10, 5, 32, 16, 8, 4)\n",
      "Cycle 1: (2, 13, 82, 41, 248, 124, 62, 31, 192, 96, 48, 24, 12, 6, 3, 20, 10, 5, 32, 16, 8, 4) (length 22)\n",
      "Cycle 2: (1,) (length 1)\n",
      "\n",
      "Trap cycle found: (1,)\n",
      "This cycle is disjoint from the universal cycle.\n",
      "Any starting value in this cycle's basin will never reach the universal cycle.\n",
      "Proof complete: universality fails for a = 5\n",
      "\n",
      "--- Proof check for a=6 ---\n",
      "Searching for cycles for a=6, N=1000...\n",
      "Number of distinct cycles found: 4\n",
      "Universal cycle (largest): (31, 223, 1565, 313, 2195, 439, 3077, 181, 1277, 8941, 62597, 438185, 87637, 7967, 257, 1805, 361, 19, 137, 961)\n",
      "Cycle 1: (31, 223, 1565, 313, 2195, 439, 3077, 181, 1277, 8941, 62597, 438185, 87637, 7967, 257, 1805, 361, 19, 137, 961) (length 20)\n",
      "Cycle 2: (377, 29, 205, 41, 289, 17, 121, 11, 79, 557, 3905, 781, 71, 499, 3497, 269, 1885) (length 17)\n",
      "Cycle 3: (83, 587, 4115, 823, 5765, 1153, 8081, 56573, 5143, 139, 983, 6889) (length 12)\n",
      "Cycle 4: (1,) (length 1)\n",
      "\n",
      "Trap cycle found: (377, 29, 205, 41, 289, 17, 121, 11, 79, 557, 3905, 781, 71, 499, 3497, 269, 1885)\n",
      "This cycle is disjoint from the universal cycle.\n",
      "Any starting value in this cycle's basin will never reach the universal cycle.\n",
      "Proof complete: universality fails for a = 6\n",
      "\n",
      "--- Proof check for a=7 ---\n",
      "Searching for cycles for a=7, N=1000...\n",
      "Number of distinct cycles found: 3\n",
      "Universal cycle (largest): (13, 108, 54, 27, 9, 3, 26)\n",
      "Cycle 1: (13, 108, 54, 27, 9, 3, 26) (length 7)\n",
      "Cycle 2: (5, 42, 21, 7, 60, 30, 15) (length 7)\n",
      "Cycle 3: (1,) (length 1)\n",
      "\n",
      "Trap cycle found: (5, 42, 21, 7, 60, 30, 15)\n",
      "This cycle is disjoint from the universal cycle.\n",
      "Any starting value in this cycle's basin will never reach the universal cycle.\n",
      "Proof complete: universality fails for a = 7\n",
      "\n",
      "--- Proof check for a=8 ---\n",
      "Searching for cycles for a=8, N=1000...\n",
      "Number of distinct cycles found: 2\n",
      "Universal cycle (largest): (67, 607, 5469, 1823, 16415, 3283, 469)\n",
      "Cycle 1: (67, 607, 5469, 1823, 16415, 3283, 469) (length 7)\n",
      "Cycle 2: (1,) (length 1)\n",
      "\n",
      "Trap cycle found: (1,)\n",
      "This cycle is disjoint from the universal cycle.\n",
      "Any starting value in this cycle's basin will never reach the universal cycle.\n",
      "Proof complete: universality fails for a = 8\n",
      "\n",
      "--- Proof check for a=9 ---\n",
      "Searching for cycles for a=9, N=1000...\n",
      "Number of distinct cycles found: 2\n",
      "Universal cycle (largest): (169, 13, 134, 67, 674, 337, 3380, 1690, 845)\n",
      "Cycle 1: (169, 13, 134, 67, 674, 337, 3380, 1690, 845) (length 9)\n",
      "Cycle 2: (1,) (length 1)\n",
      "\n",
      "Trap cycle found: (1,)\n",
      "This cycle is disjoint from the universal cycle.\n",
      "Any starting value in this cycle's basin will never reach the universal cycle.\n",
      "Proof complete: universality fails for a = 9\n",
      "\n",
      "--- Proof check for a=10 ---\n",
      "Searching for cycles for a=10, N=1000...\n"
     ]
    },
    {
     "name": "stdout",
     "output_type": "stream",
     "text": [
      "Number of distinct cycles found: 3\n",
      "Universal cycle (largest): (83, 919, 10119, 3373, 37119, 12373, 136107, 45369, 15123, 5041, 71, 783, 261, 87, 29, 321, 107, 1179, 393, 131, 1447, 15921, 5307, 1769, 61, 677, 7453, 257, 2833, 31167, 10389, 3463, 38097, 12699, 4233, 1411)\n",
      "Cycle 1: (83, 919, 10119, 3373, 37119, 12373, 136107, 45369, 15123, 5041, 71, 783, 261, 87, 29, 321, 107, 1179, 393, 131, 1447, 15921, 5307, 1769, 61, 677, 7453, 257, 2833, 31167, 10389, 3463, 38097, 12699, 4233, 1411) (length 36)\n",
      "Cycle 2: (3, 35, 7, 81, 27, 9) (length 6)\n",
      "Cycle 3: (1,) (length 1)\n",
      "\n",
      "Trap cycle found: (3, 35, 7, 81, 27, 9)\n",
      "This cycle is disjoint from the universal cycle.\n",
      "Any starting value in this cycle's basin will never reach the universal cycle.\n",
      "Proof complete: universality fails for a = 10\n"
     ]
    }
   ],
   "source": [
    "for a in range(2, 11):\n",
    "    print(f\"\\n--- Proof check for a={a} ---\")\n",
    "    main_proof_script(a=a, N=1000)\n"
   ]
  },
  {
   "cell_type": "code",
   "execution_count": 3,
   "id": "83dd68",
   "metadata": {
    "collapsed": false
   },
   "outputs": [
    {
     "name": "stdout",
     "output_type": "stream",
     "text": [
      "\n",
      "--- Rigorous proof check for a=2 ---\n",
      "Searching for cycles for a=2, N=1000...\n",
      "Number of nontrivial cycles found (excluding (1,)): 1\n",
      "Universal cycle (largest): (7, 25, 5, 17, 53, 165, 55, 11, 35)\n",
      "Cycle 1: (7, 25, 5, 17, 53, 165, 55, 11, 35) (length 9)\n",
      "No n>1 reaches (1,).\n",
      "Universality holds for all n>1 up to N = 1000\n",
      "\n",
      "--- Rigorous proof check for a=3 ---\n",
      "Searching for cycles for a=3, N=1000...\n",
      "Number of nontrivial cycles found (excluding (1,)): 1\n",
      "Universal cycle (largest): (2, 9, 3, 14, 7, 32, 16, 8, 4)\n",
      "Cycle 1: (2, 9, 3, 14, 7, 32, 16, 8, 4) (length 9)\n",
      "No n>1 reaches (1,).\n",
      "Universality holds for all n>1 up to N = 1000\n",
      "\n",
      "--- Rigorous proof check for a=4 ---\n",
      "Searching for cycles for a=4, N=1000...\n",
      "Number of nontrivial cycles found (excluding (1,)): 1\n",
      "Universal cycle (largest): (11, 57, 19, 99, 33)\n",
      "Cycle 1: (11, 57, 19, 99, 33) (length 5)\n",
      "No n>1 reaches (1,).\n",
      "Universality holds for all n>1 up to N = 1000\n",
      "\n",
      "--- Rigorous proof check for a=5 ---\n",
      "Searching for cycles for a=5, N=1000...\n",
      "Number of nontrivial cycles found (excluding (1,)): 1\n",
      "Universal cycle (largest): (2, 13, 82, 41, 248, 124, 62, 31, 192, 96, 48, 24, 12, 6, 3, 20, 10, 5, 32, 16, 8, 4)\n",
      "Cycle 1: (2, 13, 82, 41, 248, 124, 62, 31, 192, 96, 48, 24, 12, 6, 3, 20, 10, 5, 32, 16, 8, 4) (length 22)\n",
      "No n>1 reaches (1,).\n",
      "Universality holds for all n>1 up to N = 1000\n",
      "\n",
      "--- Rigorous proof check for a=6 ---\n",
      "Searching for cycles for a=6, N=1000...\n",
      "Number of nontrivial cycles found (excluding (1,)): 3\n",
      "Universal cycle (largest): (31, 223, 1565, 313, 2195, 439, 3077, 181, 1277, 8941, 62597, 438185, 87637, 7967, 257, 1805, 361, 19, 137, 961)\n",
      "Cycle 1: (31, 223, 1565, 313, 2195, 439, 3077, 181, 1277, 8941, 62597, 438185, 87637, 7967, 257, 1805, 361, 19, 137, 961) (length 20)\n",
      "Cycle 2: (377, 29, 205, 41, 289, 17, 121, 11, 79, 557, 3905, 781, 71, 499, 3497, 269, 1885) (length 17)\n",
      "Cycle 3: (83, 587, 4115, 823, 5765, 1153, 8081, 56573, 5143, 139, 983, 6889) (length 12)\n",
      "\n",
      "Trap cycle found: (377, 29, 205, 41, 289, 17, 121, 11, 79, 557, 3905, 781, 71, 499, 3497, 269, 1885)\n",
      "This cycle is disjoint from the universal cycle.\n",
      "Any starting value in this cycle's basin will never reach the universal cycle.\n",
      "Proof complete: universality fails for a = 6\n",
      "\n",
      "--- Rigorous proof check for a=7 ---\n",
      "Searching for cycles for a=7, N=1000...\n",
      "Number of nontrivial cycles found (excluding (1,)): 2\n",
      "Universal cycle (largest): (13, 108, 54, 27, 9, 3, 26)\n",
      "Cycle 1: (13, 108, 54, 27, 9, 3, 26) (length 7)\n",
      "Cycle 2: (5, 42, 21, 7, 60, 30, 15) (length 7)\n",
      "\n",
      "Trap cycle found: (5, 42, 21, 7, 60, 30, 15)\n",
      "This cycle is disjoint from the universal cycle.\n",
      "Any starting value in this cycle's basin will never reach the universal cycle.\n",
      "Proof complete: universality fails for a = 7\n"
     ]
    }
   ],
   "source": [
    "from sage.all import Integer, next_prime, is_prime\n",
    "\n",
    "def nextprime_sage(n):\n",
    "    n = Integer(n)\n",
    "    return next_prime(n)\n",
    "\n",
    "def spf(n):\n",
    "    n = Integer(n)\n",
    "    if n == 1:\n",
    "        return 1\n",
    "    return n.prime_factors()[0]\n",
    "\n",
    "def is_prime_sage(n):\n",
    "    n = Integer(n)\n",
    "    return is_prime(n)\n",
    "\n",
    "def prime_vortex_step(n, a=2):\n",
    "    n = Integer(n)\n",
    "    if n == 1:\n",
    "        return 1\n",
    "    if is_prime_sage(n):\n",
    "        return a*n + nextprime_sage(n)\n",
    "    else:\n",
    "        return n // spf(n)\n",
    "\n",
    "def find_cycles_and_basins(N=1000, a=6, max_steps=1000):\n",
    "    # Map from starting value to (cycle tuple, entry index)\n",
    "    visited = {}\n",
    "    cycles = {}\n",
    "    basin_of_1 = set()\n",
    "    for n0 in range(1, N+1):\n",
    "        n = Integer(n0)\n",
    "        seq = []\n",
    "        seen = {}\n",
    "        for i in range(max_steps):\n",
    "            if n in seen:\n",
    "                # Cycle detected\n",
    "                cycle_start = seen[n]\n",
    "                cycle = tuple(seq[cycle_start:])\n",
    "                cycles[cycle] = cycles.get(cycle, []) + [n0]\n",
    "                break\n",
    "            if n in visited:\n",
    "                # Already known to enter a cycle\n",
    "                break\n",
    "            if n == 1:\n",
    "                basin_of_1.add(n0)\n",
    "                break\n",
    "            seen[n] = i\n",
    "            seq.append(n)\n",
    "            n = prime_vortex_step(n, a=a)\n",
    "        for m in seq:\n",
    "            visited[m] = True\n",
    "    return cycles, basin_of_1\n",
    "\n",
    "def verify_cycle_closed(cycle, a=6):\n",
    "    # Check that each element maps to another in the cycle\n",
    "    cycle_set = set(cycle)\n",
    "    for n in cycle:\n",
    "        nxt = prime_vortex_step(n, a=a)\n",
    "        if nxt not in cycle_set:\n",
    "            return False\n",
    "    return True\n",
    "\n",
    "def main_proof_script_rigorous(a=2, N=1000):\n",
    "    print(f\"Searching for cycles for a={a}, N={N}...\")\n",
    "    cycles, basin_of_1 = find_cycles_and_basins(N=N, a=a)\n",
    "    # Remove (1,) cycle from reporting\n",
    "    cycles_no1 = {cyc: starts for cyc, starts in cycles.items() if cyc != (1,)}\n",
    "    print(f\"Number of nontrivial cycles found (excluding (1,)): {len(cycles_no1)}\")\n",
    "    sorted_cycles = sorted(cycles_no1.keys(), key=lambda c: -len(c))\n",
    "    if sorted_cycles:\n",
    "        universal_cycle = sorted_cycles[0]\n",
    "        print(f\"Universal cycle (largest): {universal_cycle}\")\n",
    "        for i, cyc in enumerate(sorted_cycles):\n",
    "            print(f\"Cycle {i+1}: {cyc} (length {len(cyc)})\")\n",
    "            assert verify_cycle_closed(cyc, a=a), f\"Cycle {cyc} is not closed!\"\n",
    "    else:\n",
    "        print(\"No nontrivial cycles found!\")\n",
    "    # Check for trap cycles (excluding (1,))\n",
    "    if len(sorted_cycles) > 1:\n",
    "        trap_cycle = sorted_cycles[1]\n",
    "        print(f\"\\nTrap cycle found: {trap_cycle}\")\n",
    "        print(\"This cycle is disjoint from the universal cycle.\")\n",
    "        print(\"Any starting value in this cycle's basin will never reach the universal cycle.\")\n",
    "        print(f\"Proof complete: universality fails for a = {a}\")\n",
    "    else:\n",
    "        # Now check if any n>1 ever reaches 1\n",
    "        n_greater_1_reaching_1 = [n for n in basin_of_1 if n > 1]\n",
    "        if n_greater_1_reaching_1:\n",
    "            print(f\"WARNING: The following n>1 reach 1: {n_greater_1_reaching_1}\")\n",
    "            print(\"Universality fails even for n>1!\")\n",
    "        else:\n",
    "            print(\"No n>1 reaches (1,).\")\n",
    "            print(\"Universality holds for all n>1 up to N =\", N)\n",
    "\n",
    "# Example usage for a=2,3,4,5,6,7\n",
    "for a in range(2, 8):\n",
    "    print(f\"\\n--- Rigorous proof check for a={a} ---\")\n",
    "    main_proof_script_rigorous(a=a, N=1000)\n"
   ]
  },
  {
   "cell_type": "code",
   "execution_count": 1,
   "id": "82bdb5",
   "metadata": {
    "collapsed": false
   },
   "outputs": [
    {
     "name": "stdout",
     "output_type": "stream",
     "text": [
      "Empirical Universality and Cycle Landscape Report\n",
      "============================================================\n",
      "\n",
      "--- Analysis for a=2 ---\n",
      "Number of nontrivial cycles (excluding (1,)): 1\n",
      "Universal cycle (largest): (7, 25, 5, 17, 53, 165, 55, 11, 35)\n",
      "Length: 9\n",
      "Cycle structure: {'length': 9, 'primes': 5, 'composites': 4, 'mod2': [1, 1, 1, 1, 1, 1, 1, 1, 1], 'mod3': [1, 1, 2, 2, 2, 0, 1, 2, 2], 'mod5': [2, 0, 0, 2, 3, 0, 0, 1, 0], 'cycle': (7, 25, 5, 17, 53, 165, 55, 11, 35)}\n",
      "No n>1 reaches (1,).\n",
      "Universality holds for all n>1 up to N = 1000\n",
      "------------------------------------------------------------\n",
      "\n",
      "--- Analysis for a=3 ---\n",
      "Number of nontrivial cycles (excluding (1,)): 1\n",
      "Universal cycle (largest): (2, 9, 3, 14, 7, 32, 16, 8, 4)\n",
      "Length: 9\n",
      "Cycle structure: {'length': 9, 'primes': 3, 'composites': 6, 'mod2': [0, 1, 1, 0, 1, 0, 0, 0, 0], 'mod3': [2, 0, 0, 2, 1, 2, 1, 2, 1], 'mod5': [2, 4, 3, 4, 2, 2, 1, 3, 4], 'cycle': (2, 9, 3, 14, 7, 32, 16, 8, 4)}\n",
      "No n>1 reaches (1,).\n",
      "Universality holds for all n>1 up to N = 1000\n",
      "------------------------------------------------------------\n",
      "\n",
      "--- Analysis for a=4 ---\n",
      "Number of nontrivial cycles (excluding (1,)): 1\n",
      "Universal cycle (largest): (11, 57, 19, 99, 33)\n",
      "Length: 5\n",
      "Cycle structure: {'length': 5, 'primes': 2, 'composites': 3, 'mod2': [1, 1, 1, 1, 1], 'mod3': [2, 0, 1, 0, 0], 'mod5': [1, 2, 4, 4, 3], 'cycle': (11, 57, 19, 99, 33)}\n",
      "No n>1 reaches (1,).\n",
      "Universality holds for all n>1 up to N = 1000\n",
      "------------------------------------------------------------\n",
      "\n",
      "--- Analysis for a=5 ---\n",
      "Number of nontrivial cycles (excluding (1,)): 1\n",
      "Universal cycle (largest): (2, 13, 82, 41, 248, 124, 62, 31, 192, 96, 48, 24, 12, 6, 3, 20, 10, 5, 32, 16, 8, 4)\n",
      "Length: 22\n",
      "Cycle structure: {'length': 22, 'primes': 6, 'composites': 16, 'mod2': [0, 1, 0, 1, 0, 0, 0, 1, 0, 0, 0, 0, 0, 0, 1, 0, 0, 1, 0, 0, 0, 0], 'mod3': [2, 1, 1, 2, 2, 1, 2, 1, 0, 0, 0, 0, 0, 0, 0, 2, 1, 2, 2, 1, 2, 1], 'mod5': [2, 3, 2, 1, 3, 4, 2, 1, 2, 1, 3, 4, 2, 1, 3, 0, 0, 0, 2, 1, 3, 4], 'cycle': (2, 13, 82, 41, 248, 124, 62, 31, 192, 96, 48, 24, 12, 6, 3, 20, 10, 5, 32, 16, 8, 4)}\n",
      "No n>1 reaches (1,).\n",
      "Universality holds for all n>1 up to N = 1000\n",
      "------------------------------------------------------------\n",
      "\n",
      "--- Analysis for a=6 ---\n"
     ]
    },
    {
     "name": "stdout",
     "output_type": "stream",
     "text": [
      "Number of nontrivial cycles (excluding (1,)): 3\n",
      "Universal cycle (largest): (31, 223, 1565, 313, 2195, 439, 3077, 181, 1277, 8941, 62597, 438185, 87637, 7967, 257, 1805, 361, 19, 137, 961)\n",
      "Length: 20\n",
      "Cycle structure: {'length': 20, 'primes': 11, 'composites': 9, 'mod2': [1, 1, 1, 1, 1, 1, 1, 1, 1, 1, 1, 1, 1, 1, 1, 1, 1, 1, 1, 1], 'mod3': [1, 1, 2, 1, 2, 1, 2, 1, 2, 1, 2, 2, 1, 2, 2, 2, 1, 1, 2, 1], 'mod5': [1, 3, 0, 3, 0, 4, 2, 1, 2, 1, 2, 0, 2, 2, 2, 0, 1, 4, 2, 1], 'cycle': (31, 223, 1565, 313, 2195, 439, 3077, 181, 1277, 8941, 62597, 438185, 87637, 7967, 257, 1805, 361, 19, 137, 961)}\n",
      "Transition point: Universality fails at a=6\n",
      "Trap cycles for a=6:\n",
      "  Trap cycle 1: (377, 29, 205, 41, 289, 17, 121, 11, 79, 557, 3905, 781, 71, 499, 3497, 269, 1885) (length 17)\n",
      "  Structure: {'length': 17, 'primes': 9, 'composites': 8, 'mod2': [1, 1, 1, 1, 1, 1, 1, 1, 1, 1, 1, 1, 1, 1, 1, 1, 1], 'mod3': [2, 2, 1, 2, 1, 2, 1, 2, 1, 2, 2, 1, 2, 1, 2, 2, 1], 'mod5': [2, 4, 0, 1, 4, 2, 1, 1, 4, 2, 0, 1, 1, 4, 2, 4, 0], 'cycle': (377, 29, 205, 41, 289, 17, 121, 11, 79, 557, 3905, 781, 71, 499, 3497, 269, 1885)}\n",
      "  Trap cycle 2: (83, 587, 4115, 823, 5765, 1153, 8081, 56573, 5143, 139, 983, 6889) (length 12)\n",
      "  Structure: {'length': 12, 'primes': 7, 'composites': 5, 'mod2': [1, 1, 1, 1, 1, 1, 1, 1, 1, 1, 1, 1], 'mod3': [2, 2, 2, 1, 2, 1, 2, 2, 1, 1, 2, 1], 'mod5': [3, 2, 0, 3, 0, 3, 1, 3, 3, 4, 3, 4], 'cycle': (83, 587, 4115, 823, 5765, 1153, 8081, 56573, 5143, 139, 983, 6889)}\n",
      "Universality fails for a = 6\n",
      "------------------------------------------------------------\n",
      "\n",
      "--- Analysis for a=7 ---\n",
      "Number of nontrivial cycles (excluding (1,)): 2\n",
      "Universal cycle (largest): (13, 108, 54, 27, 9, 3, 26)\n",
      "Length: 7\n",
      "Cycle structure: {'length': 7, 'primes': 2, 'composites': 5, 'mod2': [1, 0, 0, 1, 1, 1, 0], 'mod3': [1, 0, 0, 0, 0, 0, 2], 'mod5': [3, 3, 4, 2, 4, 3, 1], 'cycle': (13, 108, 54, 27, 9, 3, 26)}\n",
      "Trap cycles for a=7:\n",
      "  Trap cycle 1: (5, 42, 21, 7, 60, 30, 15) (length 7)\n",
      "  Structure: {'length': 7, 'primes': 2, 'composites': 5, 'mod2': [1, 0, 1, 1, 0, 0, 1], 'mod3': [2, 0, 0, 1, 0, 0, 0], 'mod5': [0, 2, 1, 2, 0, 0, 0], 'cycle': (5, 42, 21, 7, 60, 30, 15)}\n",
      "Universality fails for a = 7\n",
      "------------------------------------------------------------\n",
      "\n",
      "--- Analysis for a=8 ---\n",
      "Number of nontrivial cycles (excluding (1,)): 1\n",
      "Universal cycle (largest): (67, 607, 5469, 1823, 16415, 3283, 469)\n",
      "Length: 7\n",
      "Cycle structure: {'length': 7, 'primes': 3, 'composites': 4, 'mod2': [1, 1, 1, 1, 1, 1, 1], 'mod3': [1, 1, 0, 2, 2, 1, 1], 'mod5': [2, 2, 4, 3, 0, 3, 4], 'cycle': (67, 607, 5469, 1823, 16415, 3283, 469)}\n",
      "No n>1 reaches (1,).\n",
      "Universality holds for all n>1 up to N = 1000\n",
      "------------------------------------------------------------\n",
      "\n",
      "--- Analysis for a=9 ---\n",
      "Number of nontrivial cycles (excluding (1,)): 1\n",
      "Universal cycle (largest): (169, 13, 134, 67, 674, 337, 3380, 1690, 845)\n",
      "Length: 9\n",
      "Cycle structure: {'length': 9, 'primes': 3, 'composites': 6, 'mod2': [1, 1, 0, 1, 0, 1, 0, 0, 1], 'mod3': [1, 1, 2, 1, 2, 1, 2, 1, 2], 'mod5': [4, 3, 4, 2, 4, 2, 0, 0, 0], 'cycle': (169, 13, 134, 67, 674, 337, 3380, 1690, 845)}\n",
      "No n>1 reaches (1,).\n",
      "Universality holds for all n>1 up to N = 1000\n",
      "------------------------------------------------------------\n",
      "\n",
      "--- Analysis for a=10 ---\n",
      "Number of nontrivial cycles (excluding (1,)): 2\n",
      "Universal cycle (largest): (83, 919, 10119, 3373, 37119, 12373, 136107, 45369, 15123, 5041, 71, 783, 261, 87, 29, 321, 107, 1179, 393, 131, 1447, 15921, 5307, 1769, 61, 677, 7453, 257, 2833, 31167, 10389, 3463, 38097, 12699, 4233, 1411)\n",
      "Length: 36\n",
      "Cycle structure: {'length': 36, 'primes': 14, 'composites': 22, 'mod2': [1, 1, 1, 1, 1, 1, 1, 1, 1, 1, 1, 1, 1, 1, 1, 1, 1, 1, 1, 1, 1, 1, 1, 1, 1, 1, 1, 1, 1, 1, 1, 1, 1, 1, 1, 1], 'mod3': [2, 1, 0, 1, 0, 1, 0, 0, 0, 1, 2, 0, 0, 0, 2, 0, 2, 0, 0, 2, 1, 0, 0, 2, 1, 2, 1, 2, 1, 0, 0, 1, 0, 0, 0, 1], 'mod5': [3, 4, 4, 3, 4, 3, 2, 4, 3, 1, 1, 3, 1, 2, 4, 1, 2, 4, 3, 1, 2, 1, 2, 4, 1, 2, 3, 2, 3, 2, 4, 3, 2, 4, 3, 1], 'cycle': (83, 919, 10119, 3373, 37119, 12373, 136107, 45369, 15123, 5041, 71, 783, 261, 87, 29, 321, 107, 1179, 393, 131, 1447, 15921, 5307, 1769, 61, 677, 7453, 257, 2833, 31167, 10389, 3463, 38097, 12699, 4233, 1411)}\n",
      "Trap cycles for a=10:\n",
      "  Trap cycle 1: (3, 35, 7, 81, 27, 9) (length 6)\n",
      "  Structure: {'length': 6, 'primes': 2, 'composites': 4, 'mod2': [1, 1, 1, 1, 1, 1], 'mod3': [0, 2, 1, 0, 0, 0], 'mod5': [3, 0, 2, 1, 2, 4], 'cycle': (3, 35, 7, 81, 27, 9)}\n",
      "Universality fails for a = 10\n",
      "------------------------------------------------------------\n",
      "\n",
      "--- Analysis for a=11 ---\n",
      "Number of nontrivial cycles (excluding (1,)): 1\n",
      "Universal cycle (largest): (5, 62, 31, 378, 189, 63, 21, 7, 88, 44, 22, 11, 134, 67, 808, 404, 202, 101, 1214, 607, 7290, 3645, 1215, 405, 135, 45, 15)\n",
      "Length: 27\n",
      "Cycle structure: {'length': 27, 'primes': 7, 'composites': 20, 'mod2': [1, 0, 1, 0, 1, 1, 1, 1, 0, 0, 0, 1, 0, 1, 0, 0, 0, 1, 0, 1, 0, 1, 1, 1, 1, 1, 1], 'mod3': [2, 2, 1, 0, 0, 0, 0, 1, 1, 2, 1, 2, 2, 1, 1, 2, 1, 2, 2, 1, 0, 0, 0, 0, 0, 0, 0], 'mod5': [0, 2, 1, 3, 4, 3, 1, 2, 3, 4, 2, 1, 4, 2, 3, 4, 2, 1, 4, 2, 0, 0, 0, 0, 0, 0, 0], 'cycle': (5, 62, 31, 378, 189, 63, 21, 7, 88, 44, 22, 11, 134, 67, 808, 404, 202, 101, 1214, 607, 7290, 3645, 1215, 405, 135, 45, 15)}\n",
      "No n>1 reaches (1,).\n",
      "Universality holds for all n>1 up to N = 1000\n",
      "------------------------------------------------------------\n",
      "\n",
      "--- Analysis for a=12 ---\n",
      "Number of nontrivial cycles (excluding (1,)): 2\n",
      "Universal cycle (largest): (113, 1483, 19283, 1753, 22795, 4559, 97, 1265, 253, 23, 305, 61, 799, 47, 617, 8023)\n",
      "Length: 16\n",
      "Cycle structure: {'length': 16, 'primes': 8, 'composites': 8, 'mod2': [1, 1, 1, 1, 1, 1, 1, 1, 1, 1, 1, 1, 1, 1, 1, 1], 'mod3': [2, 1, 2, 1, 1, 2, 1, 2, 1, 2, 2, 1, 1, 2, 2, 1], 'mod5': [3, 3, 3, 3, 0, 4, 2, 0, 3, 3, 0, 1, 4, 2, 2, 3], 'cycle': (113, 1483, 19283, 1753, 22795, 4559, 97, 1265, 253, 23, 305, 61, 799, 47, 617, 8023)}\n",
      "Trap cycles for a=12:\n",
      "  Trap cycle 1: (709, 9227, 119963, 1559527, 20273855, 4054771, 579253, 30487) (length 8)\n",
      "  Structure: {'length': 8, 'primes': 4, 'composites': 4, 'mod2': [1, 1, 1, 1, 1, 1, 1, 1], 'mod3': [1, 2, 2, 1, 2, 1, 1, 1], 'mod5': [4, 2, 3, 2, 0, 1, 3, 2], 'cycle': (709, 9227, 119963, 1559527, 20273855, 4054771, 579253, 30487)}\n",
      "Universality fails for a = 12\n",
      "------------------------------------------------------------\n"
     ]
    }
   ],
   "source": [
    "from sage.all import Integer, next_prime, is_prime\n",
    "\n",
    "def nextprime_sage(n):\n",
    "    n = Integer(n)\n",
    "    return next_prime(n)\n",
    "\n",
    "def spf(n):\n",
    "    n = Integer(n)\n",
    "    if n == 1:\n",
    "        return 1\n",
    "    return n.prime_factors()[0]\n",
    "\n",
    "def is_prime_sage(n):\n",
    "    n = Integer(n)\n",
    "    return is_prime(n)\n",
    "\n",
    "def prime_vortex_step(n, a=2):\n",
    "    n = Integer(n)\n",
    "    if n == 1:\n",
    "        return 1\n",
    "    if is_prime_sage(n):\n",
    "        return a*n + nextprime_sage(n)\n",
    "    else:\n",
    "        return n // spf(n)\n",
    "\n",
    "def find_cycles_and_basins(N=1000, a=6, max_steps=1000):\n",
    "    visited = {}\n",
    "    cycles = {}\n",
    "    basin_of_1 = set()\n",
    "    for n0 in range(1, N+1):\n",
    "        n = Integer(n0)\n",
    "        seq = []\n",
    "        seen = {}\n",
    "        for i in range(max_steps):\n",
    "            if n in seen:\n",
    "                cycle_start = seen[n]\n",
    "                cycle = tuple(seq[cycle_start:])\n",
    "                cycles[cycle] = cycles.get(cycle, []) + [n0]\n",
    "                break\n",
    "            if n in visited:\n",
    "                break\n",
    "            if n == 1:\n",
    "                basin_of_1.add(n0)\n",
    "                break\n",
    "            seen[n] = i\n",
    "            seq.append(n)\n",
    "            n = prime_vortex_step(n, a=a)\n",
    "        for m in seq:\n",
    "            visited[m] = True\n",
    "    return cycles, basin_of_1\n",
    "\n",
    "def verify_cycle_closed(cycle, a=6):\n",
    "    cycle_set = set(cycle)\n",
    "    for n in cycle:\n",
    "        nxt = prime_vortex_step(n, a=a)\n",
    "        if nxt not in cycle_set:\n",
    "            return False\n",
    "    return True\n",
    "\n",
    "def analyze_cycle_structure(cycle):\n",
    "    primes = sum(1 for n in cycle if is_prime_sage(n))\n",
    "    composites = len(cycle) - primes\n",
    "    residues_mod_2 = [n % 2 for n in cycle]\n",
    "    residues_mod_3 = [n % 3 for n in cycle]\n",
    "    residues_mod_5 = [n % 5 for n in cycle]\n",
    "    return {\n",
    "        'length': len(cycle),\n",
    "        'primes': primes,\n",
    "        'composites': composites,\n",
    "        'mod2': residues_mod_2,\n",
    "        'mod3': residues_mod_3,\n",
    "        'mod5': residues_mod_5,\n",
    "        'cycle': cycle\n",
    "    }\n",
    "\n",
    "def universality_report(N=1000, a_min=2, a_max=12):\n",
    "    print(\"Empirical Universality and Cycle Landscape Report\")\n",
    "    print(\"=\"*60)\n",
    "    transition_found = False\n",
    "    for a in range(a_min, a_max+1):\n",
    "        print(f\"\\n--- Analysis for a={a} ---\")\n",
    "        cycles, basin_of_1 = find_cycles_and_basins(N=N, a=a)\n",
    "        cycles_no1 = {cyc: starts for cyc, starts in cycles.items() if cyc != (1,)}\n",
    "        sorted_cycles = sorted(cycles_no1.keys(), key=lambda c: -len(c))\n",
    "        print(f\"Number of nontrivial cycles (excluding (1,)): {len(sorted_cycles)}\")\n",
    "        if sorted_cycles:\n",
    "            print(f\"Universal cycle (largest): {sorted_cycles[0]}\")\n",
    "            print(f\"Length: {len(sorted_cycles[0])}\")\n",
    "            print(\"Cycle structure:\", analyze_cycle_structure(sorted_cycles[0]))\n",
    "        else:\n",
    "            print(\"No nontrivial cycles found!\")\n",
    "\n",
    "        if len(sorted_cycles) == 1:\n",
    "            n_greater_1_reaching_1 = [n for n in basin_of_1 if n > 1]\n",
    "            if n_greater_1_reaching_1:\n",
    "                print(f\"WARNING: The following n>1 reach 1: {n_greater_1_reaching_1}\")\n",
    "                print(\"Universality fails even for n>1!\")\n",
    "            else:\n",
    "                print(\"No n>1 reaches (1,).\")\n",
    "                print(\"Universality holds for all n>1 up to N =\", N)\n",
    "        else:\n",
    "            if not transition_found:\n",
    "                print(f\"Transition point: Universality fails at a={a}\")\n",
    "                transition_found = True\n",
    "            print(f\"Trap cycles for a={a}:\")\n",
    "            for i, cyc in enumerate(sorted_cycles[1:]):\n",
    "                print(f\"  Trap cycle {i+1}: {cyc} (length {len(cyc)})\")\n",
    "                print(\"  Structure:\", analyze_cycle_structure(cyc))\n",
    "            print(\"Universality fails for a =\", a)\n",
    "        print(\"-\"*60)\n",
    "\n",
    "universality_report(N=1000, a_min=2, a_max=12)"
   ]
  }
 ],
 "metadata": {
  "kernelspec": {
   "argv": [
    "sage-10.6",
    "--python",
    "-m",
    "sage.repl.ipython_kernel",
    "--matplotlib=inline",
    "-f",
    "{connection_file}"
   ],
   "display_name": "SageMath 10.6",
   "env": {
   },
   "language": "sagemath",
   "metadata": {
    "cocalc": {
     "description": "Open-source mathematical software system",
     "priority": 10,
     "url": "https://www.sagemath.org/"
    }
   },
   "name": "sage-10.6",
   "resource_dir": "/ext/jupyter/kernels/sage-10.6"
  },
  "language_info": {
   "codemirror_mode": {
    "name": "ipython",
    "version": 3
   },
   "file_extension": ".py",
   "mimetype": "text/x-python",
   "name": "python",
   "nbconvert_exporter": "python",
   "pygments_lexer": "ipython3",
   "version": "3.12.5"
  }
 },
 "nbformat": 4,
 "nbformat_minor": 4
}